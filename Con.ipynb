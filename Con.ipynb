{
 "cells": [
  {
   "cell_type": "markdown",
   "metadata": {},
   "source": [
    "# TensorFlow Tutorial #02\n",
    "# Convolutional Neural Network\n",
    "\n",
    "by [Magnus Erik Hvass Pedersen](http://www.hvass-labs.org/)\n",
    "/ [GitHub](https://github.com/Hvass-Labs/TensorFlow-Tutorials) / [Videos on YouTube](https://www.youtube.com/playlist?list=PL9Hr9sNUjfsmEu1ZniY0XpHSzl5uihcXZ)"
   ]
  },
  {
   "cell_type": "markdown",
   "metadata": {},
   "source": [
    "## Introduction\n",
    "\n",
    "The previous tutorial showed that a simple linear model had about 91% classification accuracy for recognizing hand-written digits in the MNIST data-set.\n",
    "\n",
    "In this tutorial we will implement a simple Convolutional Neural Network in TensorFlow which has a classification accuracy of about 99%, or more if you make some of the suggested exercises.\n",
    "\n",
    "Convolutional Networks work by moving small filters across the input image. This means the filters are re-used for recognizing patterns throughout the entire input image. This makes the Convolutional Networks much more powerful than Fully-Connected networks with the same number of variables. This in turn makes the Convolutional Networks faster to train.\n",
    "\n",
    "You should be familiar with basic linear algebra, Python and the Jupyter Notebook editor. Beginners to TensorFlow may also want to study the first tutorial before proceeding to this one."
   ]
  },
  {
   "cell_type": "markdown",
   "metadata": {},
   "source": [
    "## Flowchart"
   ]
  },
  {
   "cell_type": "markdown",
   "metadata": {},
   "source": [
    "The following chart shows roughly how the data flows in the Convolutional Neural Network that is implemented below.\n",
    "\n",
    "![Flowchart](images/02_network_flowchart.png)"
   ]
  },
  {
   "cell_type": "markdown",
   "metadata": {},
   "source": [
    "The input image is processed in the first convolutional layer using the filter-weights. This results in 16 new images, one for each filter in the convolutional layer. The images are also down-sampled so the image resolution is decreased from 28x28 to 14x14.\n",
    "\n",
    "These 16 smaller images are then processed in the second convolutional layer. We need filter-weights for each of these 16 channels, and we need filter-weights for each output channel of this layer. There are 36 output channels so there are a total of 16 x 36 = 576 filters in the second convolutional layer. The resulting images are down-sampled again to 7x7 pixels.\n",
    "\n",
    "The output of the second convolutional layer is 36 images of 7x7 pixels each. These are then flattened to a single vector of length 7 x 7 x 36 = 1764, which is used as the input to a fully-connected layer with 128 neurons (or elements). This feeds into another fully-connected layer with 10 neurons, one for each of the classes, which is used to determine the class of the image, that is, which number is depicted in the image.\n",
    "\n",
    "The convolutional filters are initially chosen at random, so the classification is done randomly. The error between the predicted and true class of the input image is measured as the so-called cross-entropy. The optimizer then automatically propagates this error back through the Convolutional Network using the chain-rule of differentiation and updates the filter-weights so as to improve the classification error. This is done iteratively thousands of times until the classification error is sufficiently low.\n",
    "\n",
    "These particular filter-weights and intermediate images are the results of one optimization run and may look different if you re-run this Notebook.\n",
    "\n",
    "Note that the computation in TensorFlow is actually done on a batch of images instead of a single image, which makes the computation more efficient. This means the flowchart actually has one more data-dimension when implemented in TensorFlow."
   ]
  },
  {
   "cell_type": "markdown",
   "metadata": {},
   "source": [
    "## Convolutional Layer"
   ]
  },
  {
   "cell_type": "markdown",
   "metadata": {},
   "source": [
    "The following chart shows the basic idea of processing an image in the first convolutional layer. The input image depicts the number 7 and four copies of the image are shown here, so we can see more clearly how the filter is being moved to different positions of the image. For each position of the filter, the dot-product is being calculated between the filter and the image pixels under the filter, which results in a single pixel in the output image. So moving the filter across the entire input image results in a new image being generated.\n",
    "\n",
    "The red filter-weights means that the filter has a positive reaction to black pixels in the input image, while blue pixels means the filter has a negative reaction to black pixels.\n",
    "\n",
    "In this case it appears that the filter recognizes the horizontal line of the 7-digit, as can be seen from its stronger reaction to that line in the output image.\n",
    "\n",
    "![Convolution example](images/02_convolution.png)"
   ]
  },
  {
   "cell_type": "markdown",
   "metadata": {},
   "source": [
    "The step-size for moving the filter across the input is called the stride. There is a stride for moving the filter horizontally (x-axis) and another stride for moving vertically (y-axis).\n",
    "\n",
    "In the source-code below, the stride is set to 1 in both directions, which means the filter starts in the upper left corner of the input image and is being moved 1 pixel to the right in each step. When the filter reaches the end of the image to the right, then the filter is moved back to the left side and 1 pixel down the image. This continues until the filter has reached the lower right corner of the input image and the entire output image has been generated.\n",
    "\n",
    "When the filter reaches the end of the right-side as well as the bottom of the input image, then it can be padded with zeroes (white pixels). This causes the output image to be of the exact same dimension as the input image.\n",
    "\n",
    "Furthermore, the output of the convolution may be passed through a so-called Rectified Linear Unit (ReLU), which merely ensures that the output is positive because negative values are set to zero. The output may also be down-sampled by so-called max-pooling, which considers small windows of 2x2 pixels and only keeps the largest of those pixels. This halves the resolution of the input image e.g. from 28x28 to 14x14 pixels.\n",
    "\n",
    "Note that the second convolutional layer is more complicated because it takes 16 input channels. We want a separate filter for each input channel, so we need 16 filters instead of just one. Furthermore, we want 36 output channels from the second convolutional layer, so in total we need 16 x 36 = 576 filters for the second convolutional layer. It can be a bit challenging to understand how this works."
   ]
  },
  {
   "cell_type": "markdown",
   "metadata": {},
   "source": [
    "## Imports"
   ]
  },
  {
   "cell_type": "code",
   "execution_count": 1,
   "metadata": {},
   "outputs": [
    {
     "name": "stderr",
     "output_type": "stream",
     "text": [
      "/anaconda3/lib/python3.6/site-packages/h5py/__init__.py:36: FutureWarning: Conversion of the second argument of issubdtype from `float` to `np.floating` is deprecated. In future, it will be treated as `np.float64 == np.dtype(float).type`.\n",
      "  from ._conv import register_converters as _register_converters\n"
     ]
    }
   ],
   "source": [
    "%matplotlib inline\n",
    "import matplotlib.pyplot as plt\n",
    "import tensorflow as tf\n",
    "import numpy as np\n",
    "from sklearn.metrics import confusion_matrix\n",
    "import time\n",
    "from datetime import timedelta\n",
    "import datetime\n",
    "import math\n",
    "import os\n",
    "from scipy import ndimage\n",
    "#import test4 as tst"
   ]
  },
  {
   "cell_type": "markdown",
   "metadata": {},
   "source": [
    "This was developed using Python 3.6.1 (Anaconda) and TensorFlow version:"
   ]
  },
  {
   "cell_type": "code",
   "execution_count": 2,
   "metadata": {},
   "outputs": [
    {
     "data": {
      "text/plain": [
       "'1.9.0-dev20180503'"
      ]
     },
     "execution_count": 2,
     "metadata": {},
     "output_type": "execute_result"
    }
   ],
   "source": [
    "tf.__version__"
   ]
  },
  {
   "cell_type": "markdown",
   "metadata": {},
   "source": [
    "## Configuration of Neural Network\n",
    "\n",
    "The configuration of the Convolutional Neural Network is defined here for convenience, so you can easily find and change these numbers and re-run the Notebook."
   ]
  },
  {
   "cell_type": "code",
   "execution_count": 3,
   "metadata": {},
   "outputs": [],
   "source": [
    "# Convolutional Layer 1.\n",
    "filter_size1 = 5          # Convolution filters are 5 x 5 pixels.\n",
    "num_filters1 = 16         # There are 16 of these filters.\n",
    "\n",
    "# Convolutional Layer 2.\n",
    "filter_size2 = 5          # Convolution filters are 5 x 5 pixels.\n",
    "num_filters2 = 36         # There are 36 of these filters.\n",
    "\n",
    "# Fully-connected layer.\n",
    "fc_size = 128             # Number of neurons in fully-connected layer."
   ]
  },
  {
   "cell_type": "markdown",
   "metadata": {},
   "source": [
    "## Load Data"
   ]
  },
  {
   "cell_type": "markdown",
   "metadata": {},
   "source": [
    "The MNIST data-set is about 12 MB and will be downloaded automatically if it is not located in the given path."
   ]
  },
  {
   "cell_type": "code",
   "execution_count": 4,
   "metadata": {},
   "outputs": [
    {
     "name": "stdout",
     "output_type": "stream",
     "text": [
      "WARNING:tensorflow:From <ipython-input-4-d2a2e8fa7eb1>:3: read_data_sets (from tensorflow.contrib.learn.python.learn.datasets.mnist) is deprecated and will be removed in a future version.\n",
      "Instructions for updating:\n",
      "Please use alternatives such as official/mnist/dataset.py from tensorflow/models.\n",
      "WARNING:tensorflow:From /anaconda3/lib/python3.6/site-packages/tensorflow/contrib/learn/python/learn/datasets/mnist.py:260: maybe_download (from tensorflow.contrib.learn.python.learn.datasets.base) is deprecated and will be removed in a future version.\n",
      "Instructions for updating:\n",
      "Please write your own downloading logic.\n",
      "WARNING:tensorflow:From /anaconda3/lib/python3.6/site-packages/tensorflow/contrib/learn/python/learn/datasets/mnist.py:262: extract_images (from tensorflow.contrib.learn.python.learn.datasets.mnist) is deprecated and will be removed in a future version.\n",
      "Instructions for updating:\n",
      "Please use tf.data to implement this functionality.\n",
      "Extracting data/MNIST/train-images-idx3-ubyte.gz\n",
      "WARNING:tensorflow:From /anaconda3/lib/python3.6/site-packages/tensorflow/contrib/learn/python/learn/datasets/mnist.py:267: extract_labels (from tensorflow.contrib.learn.python.learn.datasets.mnist) is deprecated and will be removed in a future version.\n",
      "Instructions for updating:\n",
      "Please use tf.data to implement this functionality.\n",
      "Extracting data/MNIST/train-labels-idx1-ubyte.gz\n",
      "WARNING:tensorflow:From /anaconda3/lib/python3.6/site-packages/tensorflow/contrib/learn/python/learn/datasets/mnist.py:110: dense_to_one_hot (from tensorflow.contrib.learn.python.learn.datasets.mnist) is deprecated and will be removed in a future version.\n",
      "Instructions for updating:\n",
      "Please use tf.one_hot on tensors.\n",
      "Extracting data/MNIST/t10k-images-idx3-ubyte.gz\n",
      "Extracting data/MNIST/t10k-labels-idx1-ubyte.gz\n",
      "WARNING:tensorflow:From /anaconda3/lib/python3.6/site-packages/tensorflow/contrib/learn/python/learn/datasets/mnist.py:290: DataSet.__init__ (from tensorflow.contrib.learn.python.learn.datasets.mnist) is deprecated and will be removed in a future version.\n",
      "Instructions for updating:\n",
      "Please use alternatives such as official/mnist/dataset.py from tensorflow/models.\n",
      "18195\n"
     ]
    }
   ],
   "source": [
    "a = datetime.datetime.now()\n",
    "from tensorflow.examples.tutorials.mnist import input_data\n",
    "data = input_data.read_data_sets('data/MNIST/', one_hot=True)\n",
    "b = datetime.datetime.now()\n",
    "c = b-a\n",
    "print(c.microseconds)"
   ]
  },
  {
   "cell_type": "markdown",
   "metadata": {},
   "source": [
    "The MNIST data-set has now been loaded and consists of 70,000 images and associated labels (i.e. classifications of the images). The data-set is split into 3 mutually exclusive sub-sets. We will only use the training and test-sets in this tutorial."
   ]
  },
  {
   "cell_type": "code",
   "execution_count": 5,
   "metadata": {
    "scrolled": true
   },
   "outputs": [
    {
     "name": "stdout",
     "output_type": "stream",
     "text": [
      "Size of:\n",
      "- Training-set:\t\t55000\n",
      "- Test-set:\t\t10000\n",
      "- Validation-set:\t5000\n"
     ]
    }
   ],
   "source": [
    "print(\"Size of:\")\n",
    "print(\"- Training-set:\\t\\t{}\".format(len(data.train.labels)))\n",
    "print(\"- Test-set:\\t\\t{}\".format(len(data.test.labels)))\n",
    "print(\"- Validation-set:\\t{}\".format(len(data.validation.labels)))"
   ]
  },
  {
   "cell_type": "markdown",
   "metadata": {},
   "source": [
    "The class-labels are One-Hot encoded, which means that each label is a vector with 10 elements, all of which are zero except for one element. The index of this one element is the class-number, that is, the digit shown in the associated image. We also need the class-numbers as integers for the test-set, so we calculate it now."
   ]
  },
  {
   "cell_type": "code",
   "execution_count": 6,
   "metadata": {},
   "outputs": [],
   "source": [
    "data.test.cls = np.argmax(data.test.labels, axis=1)"
   ]
  },
  {
   "cell_type": "markdown",
   "metadata": {},
   "source": [
    "## Data Dimensions"
   ]
  },
  {
   "cell_type": "markdown",
   "metadata": {},
   "source": [
    "The data dimensions are used in several places in the source-code below. They are defined once so we can use these variables instead of numbers throughout the source-code below."
   ]
  },
  {
   "cell_type": "code",
   "execution_count": 7,
   "metadata": {},
   "outputs": [],
   "source": [
    "# We know that MNIST images are 28 pixels in each dimension.\n",
    "img_size = 28\n",
    "\n",
    "# Images are stored in one-dimensional arrays of this length.\n",
    "img_size_flat = img_size * img_size\n",
    "\n",
    "# Tuple with height and width of images used to reshape arrays.\n",
    "img_shape = (img_size, img_size)\n",
    "\n",
    "# Number of colour channels for the images: 1 channel for gray-scale.\n",
    "num_channels = 1\n",
    "\n",
    "# Number of classes, one class for each of 10 digits.\n",
    "num_classes = 10"
   ]
  },
  {
   "cell_type": "markdown",
   "metadata": {},
   "source": [
    "### Helper-function for plotting images"
   ]
  },
  {
   "cell_type": "markdown",
   "metadata": {},
   "source": [
    "Function used to plot 9 images in a 3x3 grid, and writing the true and predicted classes below each image."
   ]
  },
  {
   "cell_type": "code",
   "execution_count": 8,
   "metadata": {},
   "outputs": [],
   "source": [
    "def plot_images(images, cls_true, cls_pred=None):\n",
    "    assert len(images) == len(cls_true) == 9\n",
    "    \n",
    "    # Create figure with 3x3 sub-plots.\n",
    "    fig, axes = plt.subplots(3, 3)\n",
    "    fig.subplots_adjust(hspace=0.3, wspace=0.3)\n",
    "\n",
    "    for i, ax in enumerate(axes.flat):\n",
    "        # Plot image.\n",
    "        ax.imshow(images[i].reshape(img_shape), cmap='binary')\n",
    "\n",
    "        # Show true and predicted classes.\n",
    "        if cls_pred is None:\n",
    "            xlabel = \"True: {0}\".format(cls_true[i])\n",
    "        else:\n",
    "            xlabel = \"True: {0}, Pred: {1}\".format(cls_true[i], cls_pred[i])\n",
    "\n",
    "        # Show the classes as the label on the x-axis.\n",
    "        ax.set_xlabel(xlabel)\n",
    "        \n",
    "        # Remove ticks from the plot.\n",
    "        ax.set_xticks([])\n",
    "        ax.set_yticks([])\n",
    "    \n",
    "    # Ensure the plot is shown correctly with multiple plots\n",
    "    # in a single Notebook cell.\n",
    "    plt.show()"
   ]
  },
  {
   "cell_type": "markdown",
   "metadata": {},
   "source": [
    "### Plot a few images to see if data is correct"
   ]
  },
  {
   "cell_type": "code",
   "execution_count": 9,
   "metadata": {},
   "outputs": [
    {
     "data": {
      "image/png": "[encoded data removed]",
      "text/plain": [
       "<matplotlib.figure.Figure at 0x1c287b3cc0>"
      ]
     },
     "metadata": {},
     "output_type": "display_data"
    }
   ],
   "source": [
    "# Get the first images from the test-set.\n",
    "images = data.test.images[0:9]\n",
    "\n",
    "# Get the true classes for those images.\n",
    "cls_true = data.test.cls[0:9]\n",
    "\n",
    "# Plot the images and labels using our helper-function above.\n",
    "plot_images(images=images, cls_true=cls_true)"
   ]
  },
  {
   "cell_type": "code",
   "execution_count": 10,
   "metadata": {},
   "outputs": [
    {
     "name": "stdout",
     "output_type": "stream",
     "text": [
      "[0.         0.         0.         0.         0.         0.\n",
      " 0.         0.         0.         0.         0.         0.\n",
      " 0.         0.         0.         0.         0.         0.\n",
      " 0.         0.         0.         0.         0.         0.\n",
      " 0.         0.         0.         0.         0.         0.\n",
      " 0.         0.         0.         0.         0.         0.\n",
      " 0.         0.         0.         0.         0.         0.\n",
      " 0.         0.         0.         0.         0.         0.\n",
      " 0.         0.         0.         0.         0.         0.\n",
      " 0.         0.         0.         0.         0.         0.\n",
      " 0.         0.         0.         0.         0.         0.\n",
      " 0.         0.         0.         0.         0.         0.\n",
      " 0.         0.         0.         0.         0.         0.\n",
      " 0.         0.         0.         0.         0.         0.\n",
      " 0.         0.         0.         0.         0.         0.\n",
      " 0.         0.         0.         0.         0.         0.\n",
      " 0.         0.         0.         0.         0.         0.\n",
      " 0.         0.         0.         0.         0.         0.\n",
      " 0.         0.         0.         0.         0.         0.\n",
      " 0.         0.         0.         0.         0.         0.\n",
      " 0.         0.         0.         0.         0.         0.\n",
      " 0.         0.         0.         0.         0.         0.\n",
      " 0.         0.         0.         0.         0.         0.\n",
      " 0.         0.         0.         0.         0.         0.\n",
      " 0.         0.         0.         0.         0.         0.\n",
      " 0.         0.         0.         0.         0.         0.\n",
      " 0.         0.         0.         0.         0.         0.\n",
      " 0.         0.         0.         0.         0.         0.\n",
      " 0.         0.         0.         0.         0.         0.\n",
      " 0.         0.         0.         0.         0.         0.\n",
      " 0.         0.         0.         0.         0.         0.\n",
      " 0.         0.         0.         0.         0.         0.\n",
      " 0.         0.         0.         0.         0.         0.\n",
      " 0.         0.         0.         0.         0.32941177 0.7254902\n",
      " 0.62352943 0.5921569  0.23529413 0.14117648 0.         0.\n",
      " 0.         0.         0.         0.         0.         0.\n",
      " 0.         0.         0.         0.         0.         0.\n",
      " 0.         0.         0.         0.         0.         0.\n",
      " 0.         0.         0.8705883  0.9960785  0.9960785  0.9960785\n",
      " 0.9960785  0.9450981  0.77647066 0.77647066 0.77647066 0.77647066\n",
      " 0.77647066 0.77647066 0.77647066 0.77647066 0.6666667  0.20392159\n",
      " 0.         0.         0.         0.         0.         0.\n",
      " 0.         0.         0.         0.         0.         0.\n",
      " 0.2627451  0.44705886 0.28235295 0.44705886 0.6392157  0.89019614\n",
      " 0.9960785  0.882353   0.9960785  0.9960785  0.9960785  0.9803922\n",
      " 0.8980393  0.9960785  0.9960785  0.54901963 0.         0.\n",
      " 0.         0.         0.         0.         0.         0.\n",
      " 0.         0.         0.         0.         0.         0.\n",
      " 0.         0.         0.         0.06666667 0.25882354 0.05490196\n",
      " 0.2627451  0.2627451  0.2627451  0.23137257 0.08235294 0.92549026\n",
      " 0.9960785  0.4156863  0.         0.         0.         0.\n",
      " 0.         0.         0.         0.         0.         0.\n",
      " 0.         0.         0.         0.         0.         0.\n",
      " 0.         0.         0.         0.         0.         0.\n",
      " 0.         0.         0.3254902  0.9921569  0.8196079  0.07058824\n",
      " 0.         0.         0.         0.         0.         0.\n",
      " 0.         0.         0.         0.         0.         0.\n",
      " 0.         0.         0.         0.         0.         0.\n",
      " 0.         0.         0.         0.         0.         0.08627451\n",
      " 0.91372555 1.         0.3254902  0.         0.         0.\n",
      " 0.         0.         0.         0.         0.         0.\n",
      " 0.         0.         0.         0.         0.         0.\n",
      " 0.         0.         0.         0.         0.         0.\n",
      " 0.         0.         0.         0.5058824  0.9960785  0.9333334\n",
      " 0.17254902 0.         0.         0.         0.         0.\n",
      " 0.         0.         0.         0.         0.         0.\n",
      " 0.         0.         0.         0.         0.         0.\n",
      " 0.         0.         0.         0.         0.         0.\n",
      " 0.23137257 0.97647065 0.9960785  0.24313727 0.         0.\n",
      " 0.         0.         0.         0.         0.         0.\n",
      " 0.         0.         0.         0.         0.         0.\n",
      " 0.         0.         0.         0.         0.         0.\n",
      " 0.         0.         0.         0.         0.52156866 0.9960785\n",
      " 0.73333335 0.01960784 0.         0.         0.         0.\n",
      " 0.         0.         0.         0.         0.         0.\n",
      " 0.         0.         0.         0.         0.         0.\n",
      " 0.         0.         0.         0.         0.         0.\n",
      " 0.         0.03529412 0.80392164 0.9725491  0.227451   0.\n",
      " 0.         0.         0.         0.         0.         0.\n",
      " 0.         0.         0.         0.         0.         0.\n",
      " 0.         0.         0.         0.         0.         0.\n",
      " 0.         0.         0.         0.         0.         0.49411768\n",
      " 0.9960785  0.7137255  0.         0.         0.         0.\n",
      " 0.         0.         0.         0.         0.         0.\n",
      " 0.         0.         0.         0.         0.         0.\n",
      " 0.         0.         0.         0.         0.         0.\n",
      " 0.         0.         0.29411766 0.9843138  0.94117653 0.22352943\n",
      " 0.         0.         0.         0.         0.         0.\n",
      " 0.         0.         0.         0.         0.         0.\n",
      " 0.         0.         0.         0.         0.         0.\n",
      " 0.         0.         0.         0.         0.         0.07450981\n",
      " 0.86666673 0.9960785  0.6509804  0.         0.         0.\n",
      " 0.         0.         0.         0.         0.         0.\n",
      " 0.         0.         0.         0.         0.         0.\n",
      " 0.         0.         0.         0.         0.         0.\n",
      " 0.         0.         0.01176471 0.7960785  0.9960785  0.8588236\n",
      " 0.13725491 0.         0.         0.         0.         0.\n",
      " 0.         0.         0.         0.         0.         0.\n",
      " 0.         0.         0.         0.         0.         0.\n",
      " 0.         0.         0.         0.         0.         0.\n",
      " 0.14901961 0.9960785  0.9960785  0.3019608  0.         0.\n",
      " 0.         0.         0.         0.         0.         0.\n",
      " 0.         0.         0.         0.         0.         0.\n",
      " 0.         0.         0.         0.         0.         0.\n",
      " 0.         0.         0.         0.12156864 0.87843144 0.9960785\n",
      " 0.45098042 0.00392157 0.         0.         0.         0.\n",
      " 0.         0.         0.         0.         0.         0.\n",
      " 0.         0.         0.         0.         0.         0.\n",
      " 0.         0.         0.         0.         0.         0.\n",
      " 0.         0.52156866 0.9960785  0.9960785  0.20392159 0.\n",
      " 0.         0.         0.         0.         0.         0.\n",
      " 0.         0.         0.         0.         0.         0.\n",
      " 0.         0.         0.         0.         0.         0.\n",
      " 0.         0.         0.         0.         0.2392157  0.9490197\n",
      " 0.9960785  0.9960785  0.20392159 0.         0.         0.\n",
      " 0.         0.         0.         0.         0.         0.\n",
      " 0.         0.         0.         0.         0.         0.\n",
      " 0.         0.         0.         0.         0.         0.\n",
      " 0.         0.         0.47450984 0.9960785  0.9960785  0.8588236\n",
      " 0.15686275 0.         0.         0.         0.         0.\n",
      " 0.         0.         0.         0.         0.         0.\n",
      " 0.         0.         0.         0.         0.         0.\n",
      " 0.         0.         0.         0.         0.         0.\n",
      " 0.47450984 0.9960785  0.8117648  0.07058824 0.         0.\n",
      " 0.         0.         0.         0.         0.         0.\n",
      " 0.         0.         0.         0.         0.         0.\n",
      " 0.         0.         0.         0.         0.         0.\n",
      " 0.         0.         0.         0.         0.         0.\n",
      " 0.         0.         0.         0.         0.         0.\n",
      " 0.         0.         0.         0.         0.         0.\n",
      " 0.         0.         0.         0.        ]\n"
     ]
    }
   ],
   "source": [
    "print(images[0])"
   ]
  },
  {
   "cell_type": "markdown",
   "metadata": {},
   "source": [
    "## TensorFlow Graph\n",
    "\n",
    "The entire purpose of TensorFlow is to have a so-called computational graph that can be executed much more efficiently than if the same calculations were to be performed directly in Python. TensorFlow can be more efficient than NumPy because TensorFlow knows the entire computation graph that must be executed, while NumPy only knows the computation of a single mathematical operation at a time.\n",
    "\n",
    "TensorFlow can also automatically calculate the gradients that are needed to optimize the variables of the graph so as to make the model perform better. This is because the graph is a combination of simple mathematical expressions so the gradient of the entire graph can be calculated using the chain-rule for derivatives.\n",
    "\n",
    "TensorFlow can also take advantage of multi-core CPUs as well as GPUs - and Google has even built special chips just for TensorFlow which are called TPUs (Tensor Processing Units) and are even faster than GPUs.\n",
    "\n",
    "A TensorFlow graph consists of the following parts which will be detailed below:\n",
    "\n",
    "* Placeholder variables used for inputting data to the graph.\n",
    "* Variables that are going to be optimized so as to make the convolutional network perform better.\n",
    "* The mathematical formulas for the convolutional network.\n",
    "* A cost measure that can be used to guide the optimization of the variables.\n",
    "* An optimization method which updates the variables.\n",
    "\n",
    "In addition, the TensorFlow graph may also contain various debugging statements e.g. for logging data to be displayed using TensorBoard, which is not covered in this tutorial."
   ]
  },
  {
   "cell_type": "markdown",
   "metadata": {},
   "source": [
    "### Helper-functions for creating new variables"
   ]
  },
  {
   "cell_type": "markdown",
   "metadata": {},
   "source": [
    "Functions for creating new TensorFlow variables in the given shape and initializing them with random values. Note that the initialization is not actually done at this point, it is merely being defined in the TensorFlow graph."
   ]
  },
  {
   "cell_type": "code",
   "execution_count": 11,
   "metadata": {},
   "outputs": [],
   "source": [
    "def new_weights(shape):\n",
    "    return tf.Variable(tf.truncated_normal(shape, stddev=0.05))\n",
    "    "
   ]
  },
  {
   "cell_type": "code",
   "execution_count": 12,
   "metadata": {},
   "outputs": [],
   "source": [
    "def new_biases(length):\n",
    "    return tf.Variable(tf.constant(0.05, shape=[length]))"
   ]
  },
  {
   "cell_type": "markdown",
   "metadata": {},
   "source": [
    "### Helper-function for creating a new Convolutional Layer"
   ]
  },
  {
   "cell_type": "markdown",
   "metadata": {},
   "source": [
    "This function creates a new convolutional layer in the computational graph for TensorFlow. Nothing is actually calculated here, we are just adding the mathematical formulas to the TensorFlow graph.\n",
    "\n",
    "It is assumed that the input is a 4-dim tensor with the following dimensions:\n",
    "\n",
    "1. Image number.\n",
    "2. Y-axis of each image.\n",
    "3. X-axis of each image.\n",
    "4. Channels of each image.\n",
    "\n",
    "Note that the input channels may either be colour-channels, or it may be filter-channels if the input is produced from a previous convolutional layer.\n",
    "\n",
    "The output is another 4-dim tensor with the following dimensions:\n",
    "\n",
    "1. Image number, same as input.\n",
    "2. Y-axis of each image. If 2x2 pooling is used, then the height and width of the input images is divided by 2.\n",
    "3. X-axis of each image. Ditto.\n",
    "4. Channels produced by the convolutional filters."
   ]
  },
  {
   "cell_type": "code",
   "execution_count": 13,
   "metadata": {},
   "outputs": [],
   "source": [
    "def new_conv_layer(input,              # The previous layer.\n",
    "                   num_input_channels, # Num. channels in prev. layer.\n",
    "                   filter_size,        # Width and height of each filter.\n",
    "                   num_filters,):  # Use 2x2 max-pooling.\n",
    "\n",
    "    # Shape of the filter-weights for the convolution.\n",
    "    # This format is determined by the TensorFlow API.\n",
    "    shape = [filter_size, filter_size, num_input_channels, num_filters]\n",
    "\n",
    "    # Create new weights aka. filters with the given shape.\n",
    "    weights = new_weights(shape=shape)\n",
    "\n",
    "    # Create new biases, one for each filter.\n",
    "    biases = new_biases(length=num_filters)\n",
    "\n",
    "    # Create the TensorFlow operation for convolution.\n",
    "    # Note the strides are set to 1 in all dimensions.\n",
    "    # The first and last stride must always be 1,\n",
    "    # because the first is for the image-number and\n",
    "    # the last is for the input-channel.\n",
    "    # But e.g. strides=[1, 2, 2, 1] would mean that the filter\n",
    "    # is moved 2 pixels across the x- and y-axis of the image.\n",
    "    # The padding is set to 'SAME' which means the input image\n",
    "    # is padded with zeroes so the size of the output is the same.\n",
    "    layer = tf.nn.conv2d(input=input,\n",
    "                         filter=weights,\n",
    "                         strides=[1, 1, 1, 1],\n",
    "                         padding='SAME')\n",
    "    #layerConvOut = layer\n",
    "\n",
    "    # Add the biases to the results of the convolution.\n",
    "    # A bias-value is added to each filter-channel.\n",
    "    #layer += biases\n",
    "\n",
    "    return layer, weights, biases"
   ]
  },
  {
   "cell_type": "code",
   "execution_count": 14,
   "metadata": {},
   "outputs": [],
   "source": [
    "def pooling_relu(input,              # The previous layer.\n",
    "                  use_pooling=True):  # Use 2x2 max-pooling.\n",
    "\n",
    "\n",
    "    # Use pooling to down-sample the image resolution?\n",
    "    if use_pooling:\n",
    "        # This is 2x2 max-pooling, which means that we\n",
    "        # consider 2x2 windows and select the largest value\n",
    "        # in each window. Then we move 2 pixels to the next window.\n",
    "        layer = tf.nn.max_pool(value=input,\n",
    "                               ksize=[1, 2, 2, 1],\n",
    "                               strides=[1, 2, 2, 1],\n",
    "                               padding='SAME')\n",
    "\n",
    "    # Rectified Linear Unit (ReLU).\n",
    "    # It calculates max(x, 0) for each input pixel x.\n",
    "    # This adds some non-linearity to the formula and allows us\n",
    "    # to learn more complicated functions.\n",
    "    layer = tf.nn.relu(layer)\n",
    "\n",
    "    # Note that ReLU is normally executed before the pooling,\n",
    "    # but since relu(max_pool(x)) == max_pool(relu(x)) we can\n",
    "    # save 75% of the relu-operations by max-pooling first.\n",
    "\n",
    "    # We return both the resulting layer and the filter-weights\n",
    "    # because we will plot the weights later.\n",
    "    return layer"
   ]
  },
  {
   "cell_type": "markdown",
   "metadata": {},
   "source": [
    "### Helper-function for flattening a layer\n",
    "\n",
    "A convolutional layer produces an output tensor with 4 dimensions. We will add fully-connected layers after the convolution layers, so we need to reduce the 4-dim tensor to 2-dim which can be used as input to the fully-connected layer."
   ]
  },
  {
   "cell_type": "code",
   "execution_count": 15,
   "metadata": {},
   "outputs": [],
   "source": [
    "def flatten_layer(layer):\n",
    "    # Get the shape of the input layer.\n",
    "    layer_shape = layer.get_shape()\n",
    "\n",
    "    # The shape of the input layer is assumed to be:\n",
    "    # layer_shape == [num_images, img_height, img_width, num_channels]\n",
    "\n",
    "    # The number of features is: img_height * img_width * num_channels\n",
    "    # We can use a function from TensorFlow to calculate this.\n",
    "    num_features = layer_shape[1:4].num_elements()\n",
    "    \n",
    "    # Reshape the layer to [num_images, num_features].\n",
    "    # Note that we just set the size of the second dimension\n",
    "    # to num_features and the size of the first dimension to -1\n",
    "    # which means the size in that dimension is calculated\n",
    "    # so the total size of the tensor is unchanged from the reshaping.\n",
    "    layer_flat = tf.reshape(layer, [-1, num_features])\n",
    "\n",
    "    # The shape of the flattened layer is now:\n",
    "    # [num_images, img_height * img_width * num_channels]\n",
    "\n",
    "    # Return both the flattened layer and the number of features.\n",
    "    return layer_flat, num_features"
   ]
  },
  {
   "cell_type": "markdown",
   "metadata": {},
   "source": [
    "### Helper-function for creating a new Fully-Connected Layer"
   ]
  },
  {
   "cell_type": "markdown",
   "metadata": {},
   "source": [
    "This function creates a new fully-connected layer in the computational graph for TensorFlow. Nothing is actually calculated here, we are just adding the mathematical formulas to the TensorFlow graph.\n",
    "\n",
    "It is assumed that the input is a 2-dim tensor of shape `[num_images, num_inputs]`. The output is a 2-dim tensor of shape `[num_images, num_outputs]`."
   ]
  },
  {
   "cell_type": "code",
   "execution_count": 16,
   "metadata": {},
   "outputs": [],
   "source": [
    "def new_fc_layer(input,          # The previous layer.\n",
    "                 num_inputs,     # Num. inputs from prev. layer.\n",
    "                 num_outputs,    # Num. outputs.\n",
    "                 use_relu=True): # Use Rectified Linear Unit (ReLU)?\n",
    "\n",
    "    # Create new weights and biases.\n",
    "    weights = new_weights(shape=[num_inputs, num_outputs])\n",
    "    biases = new_biases(length=num_outputs)\n",
    "\n",
    "    # Calculate the layer as the matrix multiplication of\n",
    "    # the input and weights, and then add the bias-values.\n",
    "    layer = tf.matmul(input, weights) + biases\n",
    "\n",
    "    # Use ReLU?\n",
    "    if use_relu:\n",
    "        layer = tf.nn.relu(layer)\n",
    "\n",
    "    return layer,weights"
   ]
  },
  {
   "cell_type": "markdown",
   "metadata": {},
   "source": [
    "### Placeholder variables"
   ]
  },
  {
   "cell_type": "markdown",
   "metadata": {},
   "source": [
    "Placeholder variables serve as the input to the TensorFlow computational graph that we may change each time we execute the graph. We call this feeding the placeholder variables and it is demonstrated further below.\n",
    "\n",
    "First we define the placeholder variable for the input images. This allows us to change the images that are input to the TensorFlow graph. This is a so-called tensor, which just means that it is a multi-dimensional vector or matrix. The data-type is set to `float32` and the shape is set to `[None, img_size_flat]`, where `None` means that the tensor may hold an arbitrary number of images with each image being a vector of length `img_size_flat`."
   ]
  },
  {
   "cell_type": "code",
   "execution_count": 17,
   "metadata": {},
   "outputs": [],
   "source": [
    "x = tf.placeholder(tf.float32, shape=[None, img_size_flat], name='x')"
   ]
  },
  {
   "cell_type": "markdown",
   "metadata": {},
   "source": [
    "The convolutional layers expect `x` to be encoded as a 4-dim tensor so we have to reshape it so its shape is instead `[num_images, img_height, img_width, num_channels]`. Note that `img_height == img_width == img_size` and `num_images` can be inferred automatically by using -1 for the size of the first dimension. So the reshape operation is:"
   ]
  },
  {
   "cell_type": "code",
   "execution_count": 18,
   "metadata": {},
   "outputs": [],
   "source": [
    "x_image = tf.reshape(x, [-1, img_size, img_size, num_channels])"
   ]
  },
  {
   "cell_type": "markdown",
   "metadata": {},
   "source": [
    "Next we have the placeholder variable for the true labels associated with the images that were input in the placeholder variable `x`. The shape of this placeholder variable is `[None, num_classes]` which means it may hold an arbitrary number of labels and each label is a vector of length `num_classes` which is 10 in this case."
   ]
  },
  {
   "cell_type": "code",
   "execution_count": 19,
   "metadata": {},
   "outputs": [],
   "source": [
    "y_true = tf.placeholder(tf.float32, shape=[None, num_classes], name='y_true')"
   ]
  },
  {
   "cell_type": "markdown",
   "metadata": {},
   "source": [
    "We could also have a placeholder variable for the class-number, but we will instead calculate it using argmax. Note that this is a TensorFlow operator so nothing is calculated at this point."
   ]
  },
  {
   "cell_type": "code",
   "execution_count": 20,
   "metadata": {},
   "outputs": [],
   "source": [
    "y_true_cls = tf.argmax(y_true, axis=1)"
   ]
  },
  {
   "cell_type": "markdown",
   "metadata": {},
   "source": [
    "### Convolutional Layer 1\n",
    "\n",
    "Create the first convolutional layer. It takes `x_image` as input and creates `num_filters1` different filters, each having width and height equal to `filter_size1`. Finally we wish to down-sample the image so it is half the size by using 2x2 max-pooling."
   ]
  },
  {
   "cell_type": "code",
   "execution_count": 21,
   "metadata": {},
   "outputs": [],
   "source": [
    "layer_conv1, weights_conv1,biases_conv1 = \\\n",
    "    new_conv_layer(input=x_image,\n",
    "                   num_input_channels=num_channels,\n",
    "                   filter_size=filter_size1,\n",
    "                   num_filters=num_filters1)"
   ]
  },
  {
   "cell_type": "markdown",
   "metadata": {},
   "source": [
    "### Add Biases"
   ]
  },
  {
   "cell_type": "code",
   "execution_count": 22,
   "metadata": {},
   "outputs": [],
   "source": [
    "layer_conv1_biases = layer_conv1 + biases_conv1"
   ]
  },
  {
   "cell_type": "markdown",
   "metadata": {},
   "source": [
    "### Pooling Relu Convolution Layer 1"
   ]
  },
  {
   "cell_type": "code",
   "execution_count": 23,
   "metadata": {},
   "outputs": [],
   "source": [
    "layer_conv1_pool_relu = pooling_relu(input = layer_conv1_biases,use_pooling=True)"
   ]
  },
  {
   "cell_type": "markdown",
   "metadata": {},
   "source": [
    "Check the shape of the tensor that will be output by the convolutional layer. It is (?, 14, 14, 16) which means that there is an arbitrary number of images (this is the ?), each image is 14 pixels wide and 14 pixels high, and there are 16 different channels, one channel for each of the filters."
   ]
  },
  {
   "cell_type": "code",
   "execution_count": 24,
   "metadata": {},
   "outputs": [
    {
     "data": {
      "text/plain": [
       "<tf.Tensor 'Reshape:0' shape=(?, 28, 28, 1) dtype=float32>"
      ]
     },
     "execution_count": 24,
     "metadata": {},
     "output_type": "execute_result"
    }
   ],
   "source": [
    "x_image"
   ]
  },
  {
   "cell_type": "markdown",
   "metadata": {},
   "source": [
    "### Convolutional Layer 2\n",
    "\n",
    "Create the second convolutional layer, which takes as input the output from the first convolutional layer. The number of input channels corresponds to the number of filters in the first convolutional layer."
   ]
  },
  {
   "cell_type": "code",
   "execution_count": 25,
   "metadata": {},
   "outputs": [],
   "source": [
    "layer_conv2, weights_conv2,biases_conv2 = \\\n",
    "    new_conv_layer(input=layer_conv1_pool_relu,\n",
    "                   num_input_channels=num_filters1,\n",
    "                   filter_size=filter_size2,\n",
    "                   num_filters=num_filters2)"
   ]
  },
  {
   "cell_type": "markdown",
   "metadata": {},
   "source": [
    "### Adding Biases"
   ]
  },
  {
   "cell_type": "code",
   "execution_count": 26,
   "metadata": {},
   "outputs": [],
   "source": [
    "layer_conv2_biases = layer_conv2 + biases_conv2"
   ]
  },
  {
   "cell_type": "markdown",
   "metadata": {},
   "source": [
    "### Pooling Relu Convolution Layer 2"
   ]
  },
  {
   "cell_type": "code",
   "execution_count": 27,
   "metadata": {},
   "outputs": [],
   "source": [
    "layer_conv2_pool_relu = pooling_relu(input = layer_conv2_biases,use_pooling=True)"
   ]
  },
  {
   "cell_type": "markdown",
   "metadata": {},
   "source": [
    "Check the shape of the tensor that will be output from this convolutional layer. The shape is (?, 7, 7, 36) where the ? again means that there is an arbitrary number of images, with each image having width and height of 7 pixels, and there are 36 channels, one for each filter."
   ]
  },
  {
   "cell_type": "code",
   "execution_count": 28,
   "metadata": {},
   "outputs": [
    {
     "data": {
      "text/plain": [
       "<tf.Tensor 'strided_slice_2:0' shape=(14, 14) dtype=float32>"
      ]
     },
     "execution_count": 28,
     "metadata": {},
     "output_type": "execute_result"
    }
   ],
   "source": [
    "layer_conv2[1][:,:,1][:,:]"
   ]
  },
  {
   "cell_type": "code",
   "execution_count": 29,
   "metadata": {},
   "outputs": [
    {
     "data": {
      "text/plain": [
       "<tf.Variable 'Variable_2:0' shape=(5, 5, 16, 36) dtype=float32_ref>"
      ]
     },
     "execution_count": 29,
     "metadata": {},
     "output_type": "execute_result"
    }
   ],
   "source": [
    " weights_conv2"
   ]
  },
  {
   "cell_type": "markdown",
   "metadata": {},
   "source": [
    "### Flatten Layer\n",
    "\n",
    "The convolutional layers output 4-dim tensors. We now wish to use these as input in a fully-connected network, which requires for the tensors to be reshaped or flattened to 2-dim tensors."
   ]
  },
  {
   "cell_type": "code",
   "execution_count": 30,
   "metadata": {},
   "outputs": [],
   "source": [
    "layer_flat, num_features = flatten_layer(layer_conv2_pool_relu)"
   ]
  },
  {
   "cell_type": "markdown",
   "metadata": {},
   "source": [
    "Check that the tensors now have shape (?, 1764) which means there's an arbitrary number of images which have been flattened to vectors of length 1764 each. Note that 1764 = 7 x 7 x 36."
   ]
  },
  {
   "cell_type": "code",
   "execution_count": 31,
   "metadata": {},
   "outputs": [
    {
     "data": {
      "text/plain": [
       "<tf.Tensor 'Reshape_1:0' shape=(?, 1764) dtype=float32>"
      ]
     },
     "execution_count": 31,
     "metadata": {},
     "output_type": "execute_result"
    }
   ],
   "source": [
    "layer_flat"
   ]
  },
  {
   "cell_type": "code",
   "execution_count": 32,
   "metadata": {},
   "outputs": [
    {
     "data": {
      "text/plain": [
       "1764"
      ]
     },
     "execution_count": 32,
     "metadata": {},
     "output_type": "execute_result"
    }
   ],
   "source": [
    "num_features"
   ]
  },
  {
   "cell_type": "markdown",
   "metadata": {},
   "source": [
    "### Fully-Connected Layer 1\n",
    "\n",
    "Add a fully-connected layer to the network. The input is the flattened layer from the previous convolution. The number of neurons or nodes in the fully-connected layer is `fc_size`. ReLU is used so we can learn non-linear relations."
   ]
  },
  {
   "cell_type": "code",
   "execution_count": 33,
   "metadata": {},
   "outputs": [],
   "source": [
    "layer_fc1,weights_fc1 = new_fc_layer(input=layer_flat,\n",
    "                         num_inputs=num_features,\n",
    "                         num_outputs=fc_size,\n",
    "                         use_relu=True)"
   ]
  },
  {
   "cell_type": "markdown",
   "metadata": {},
   "source": [
    "Check that the output of the fully-connected layer is a tensor with shape (?, 128) where the ? means there is an arbitrary number of images and `fc_size` == 128."
   ]
  },
  {
   "cell_type": "code",
   "execution_count": 34,
   "metadata": {},
   "outputs": [
    {
     "data": {
      "text/plain": [
       "<tf.Tensor 'Relu_2:0' shape=(?, 128) dtype=float32>"
      ]
     },
     "execution_count": 34,
     "metadata": {},
     "output_type": "execute_result"
    }
   ],
   "source": [
    "layer_fc1"
   ]
  },
  {
   "cell_type": "markdown",
   "metadata": {},
   "source": [
    "### Fully-Connected Layer 2\n",
    "\n",
    "Add another fully-connected layer that outputs vectors of length 10 for determining which of the 10 classes the input image belongs to. Note that ReLU is not used in this layer."
   ]
  },
  {
   "cell_type": "code",
   "execution_count": 35,
   "metadata": {},
   "outputs": [],
   "source": [
    "layer_fc2,weights_fc2 = new_fc_layer(input=layer_fc1,\n",
    "                         num_inputs=fc_size,\n",
    "                         num_outputs=num_classes,\n",
    "                         use_relu=False)"
   ]
  },
  {
   "cell_type": "code",
   "execution_count": 36,
   "metadata": {},
   "outputs": [
    {
     "data": {
      "text/plain": [
       "TensorShape([Dimension(None), Dimension(10)])"
      ]
     },
     "execution_count": 36,
     "metadata": {},
     "output_type": "execute_result"
    }
   ],
   "source": [
    "layer_fc2.shape"
   ]
  },
  {
   "cell_type": "markdown",
   "metadata": {},
   "source": [
    "### Predicted Class"
   ]
  },
  {
   "cell_type": "markdown",
   "metadata": {},
   "source": [
    "The second fully-connected layer estimates how likely it is that the input image belongs to each of the 10 classes. However, these estimates are a bit rough and difficult to interpret because the numbers may be very small or large, so we want to normalize them so that each element is limited between zero and one and the 10 elements sum to one. This is calculated using the so-called softmax function and the result is stored in `y_pred`."
   ]
  },
  {
   "cell_type": "code",
   "execution_count": 37,
   "metadata": {},
   "outputs": [],
   "source": [
    "y_pred = tf.nn.softmax(layer_fc2)"
   ]
  },
  {
   "cell_type": "code",
   "execution_count": 38,
   "metadata": {},
   "outputs": [
    {
     "name": "stdout",
     "output_type": "stream",
     "text": [
      "Tensor(\"Softmax:0\", shape=(?, 10), dtype=float32)\n"
     ]
    }
   ],
   "source": [
    "print(y_pred)"
   ]
  },
  {
   "cell_type": "markdown",
   "metadata": {},
   "source": [
    "The class-number is the index of the largest element."
   ]
  },
  {
   "cell_type": "code",
   "execution_count": 39,
   "metadata": {},
   "outputs": [],
   "source": [
    "y_pred_cls = tf.argmax(y_pred, axis=1)"
   ]
  },
  {
   "cell_type": "code",
   "execution_count": null,
   "metadata": {},
   "outputs": [],
   "source": []
  },
  {
   "cell_type": "markdown",
   "metadata": {},
   "source": [
    "### Cost-function to be optimized"
   ]
  },
  {
   "cell_type": "markdown",
   "metadata": {},
   "source": [
    "To make the model better at classifying the input images, we must somehow change the variables for all the network layers. To do this we first need to know how well the model currently performs by comparing the predicted output of the model `y_pred` to the desired output `y_true`.\n",
    "\n",
    "The cross-entropy is a performance measure used in classification. The cross-entropy is a continuous function that is always positive and if the predicted output of the model exactly matches the desired output then the cross-entropy equals zero. The goal of optimization is therefore to minimize the cross-entropy so it gets as close to zero as possible by changing the variables of the network layers.\n",
    "\n",
    "TensorFlow has a built-in function for calculating the cross-entropy. Note that the function calculates the softmax internally so we must use the output of `layer_fc2` directly rather than `y_pred` which has already had the softmax applied."
   ]
  },
  {
   "cell_type": "code",
   "execution_count": 40,
   "metadata": {},
   "outputs": [
    {
     "name": "stdout",
     "output_type": "stream",
     "text": [
      "WARNING:tensorflow:From <ipython-input-40-2dd067a7547b>:2: softmax_cross_entropy_with_logits (from tensorflow.python.ops.nn_ops) is deprecated and will be removed in a future version.\n",
      "Instructions for updating:\n",
      "\n",
      "Future major versions of TensorFlow will allow gradients to flow\n",
      "into the labels input on backprop by default.\n",
      "\n",
      "See @{tf.nn.softmax_cross_entropy_with_logits_v2}.\n",
      "\n"
     ]
    }
   ],
   "source": [
    "cross_entropy = tf.nn.softmax_cross_entropy_with_logits(logits=layer_fc2,\n",
    "                                                        labels=y_true)"
   ]
  },
  {
   "cell_type": "markdown",
   "metadata": {},
   "source": [
    "We have now calculated the cross-entropy for each of the image classifications so we have a measure of how well the model performs on each image individually. But in order to use the cross-entropy to guide the optimization of the model's variables we need a single scalar value, so we simply take the average of the cross-entropy for all the image classifications."
   ]
  },
  {
   "cell_type": "code",
   "execution_count": 41,
   "metadata": {},
   "outputs": [],
   "source": [
    "cost = tf.reduce_mean(cross_entropy)"
   ]
  },
  {
   "cell_type": "markdown",
   "metadata": {},
   "source": [
    "### Optimization Method"
   ]
  },
  {
   "cell_type": "markdown",
   "metadata": {},
   "source": [
    "Now that we have a cost measure that must be minimized, we can then create an optimizer. In this case it is the `AdamOptimizer` which is an advanced form of Gradient Descent.\n",
    "\n",
    "Note that optimization is not performed at this point. In fact, nothing is calculated at all, we just add the optimizer-object to the TensorFlow graph for later execution."
   ]
  },
  {
   "cell_type": "code",
   "execution_count": 42,
   "metadata": {},
   "outputs": [],
   "source": [
    "optimizer = tf.train.AdamOptimizer(learning_rate=1e-4).minimize(cost)"
   ]
  },
  {
   "cell_type": "markdown",
   "metadata": {},
   "source": [
    "### Performance Measures"
   ]
  },
  {
   "cell_type": "markdown",
   "metadata": {},
   "source": [
    "We need a few more performance measures to display the progress to the user.\n",
    "\n",
    "This is a vector of booleans whether the predicted class equals the true class of each image."
   ]
  },
  {
   "cell_type": "code",
   "execution_count": 43,
   "metadata": {},
   "outputs": [],
   "source": [
    "correct_prediction = tf.equal(y_pred_cls, y_true_cls)"
   ]
  },
  {
   "cell_type": "markdown",
   "metadata": {},
   "source": [
    "This calculates the classification accuracy by first type-casting the vector of booleans to floats, so that False becomes 0 and True becomes 1, and then calculating the average of these numbers."
   ]
  },
  {
   "cell_type": "code",
   "execution_count": 44,
   "metadata": {},
   "outputs": [],
   "source": [
    "accuracy = tf.reduce_mean(tf.cast(correct_prediction, tf.float32))"
   ]
  },
  {
   "cell_type": "markdown",
   "metadata": {},
   "source": [
    "## TensorFlow Run"
   ]
  },
  {
   "cell_type": "markdown",
   "metadata": {},
   "source": [
    "### Create TensorFlow session\n",
    "\n",
    "Once the TensorFlow graph has been created, we have to create a TensorFlow session which is used to execute the graph."
   ]
  },
  {
   "cell_type": "code",
   "execution_count": 45,
   "metadata": {},
   "outputs": [],
   "source": [
    "session = tf.Session()"
   ]
  },
  {
   "cell_type": "markdown",
   "metadata": {},
   "source": [
    "### Save Session"
   ]
  },
  {
   "cell_type": "code",
   "execution_count": 46,
   "metadata": {},
   "outputs": [],
   "source": [
    "saver = tf.train.Saver()"
   ]
  },
  {
   "cell_type": "code",
   "execution_count": 47,
   "metadata": {},
   "outputs": [],
   "source": [
    "save_dir = 'checkpoints_lenetMinst/'"
   ]
  },
  {
   "cell_type": "code",
   "execution_count": 48,
   "metadata": {},
   "outputs": [],
   "source": [
    "if not os.path.exists(save_dir):\n",
    "    os.makedirs(save_dir)"
   ]
  },
  {
   "cell_type": "code",
   "execution_count": 49,
   "metadata": {},
   "outputs": [],
   "source": [
    "save_path = os.path.join(save_dir, 'best_validation')"
   ]
  },
  {
   "cell_type": "markdown",
   "metadata": {},
   "source": [
    "### Restore saved session"
   ]
  },
  {
   "cell_type": "code",
   "execution_count": 50,
   "metadata": {},
   "outputs": [
    {
     "name": "stdout",
     "output_type": "stream",
     "text": [
      "Trying to restore last checkpoint ...\n",
      "INFO:tensorflow:Restoring parameters from checkpoints_lenetMinst/best_validation-899\n",
      "Restored checkpoint from: checkpoints_lenetMinst/best_validation-899\n"
     ]
    }
   ],
   "source": [
    "try:\n",
    "    print(\"Trying to restore last checkpoint ...\")\n",
    "\n",
    "    # Use TensorFlow to find the latest checkpoint - if any.\n",
    "    last_chk_path = tf.train.latest_checkpoint(checkpoint_dir=save_dir)\n",
    "\n",
    "    # Try and load the data in the checkpoint.\n",
    "    saver.restore(session, save_path=last_chk_path)\n",
    "\n",
    "    # If we get to this point, the checkpoint was successfully loaded.\n",
    "    print(\"Restored checkpoint from:\", last_chk_path)\n",
    "except:\n",
    "    # If the above failed for some reason, simply\n",
    "    # initialize all the variables for the TensorFlow graph.\n",
    "    print(\"Failed to restore checkpoint. Initializing variables instead.\")\n",
    "    session.run(tf.global_variables_initializer())"
   ]
  },
  {
   "cell_type": "code",
   "execution_count": null,
   "metadata": {},
   "outputs": [],
   "source": []
  },
  {
   "cell_type": "markdown",
   "metadata": {},
   "source": [
    "### Initialize variables\n",
    "\n",
    "The variables for `weights` and `biases` must be initialized before we start optimizing them."
   ]
  },
  {
   "cell_type": "code",
   "execution_count": 51,
   "metadata": {},
   "outputs": [],
   "source": [
    "session.run(tf.global_variables_initializer())"
   ]
  },
  {
   "cell_type": "markdown",
   "metadata": {},
   "source": [
    "### Helper-function to perform optimization iterations"
   ]
  },
  {
   "cell_type": "markdown",
   "metadata": {},
   "source": [
    "There are 55,000 images in the training-set. It takes a long time to calculate the gradient of the model using all these images. We therefore only use a small batch of images in each iteration of the optimizer.\n",
    "\n",
    "If your computer crashes or becomes very slow because you run out of RAM, then you may try and lower this number, but you may then need to perform more optimization iterations."
   ]
  },
  {
   "cell_type": "code",
   "execution_count": 52,
   "metadata": {},
   "outputs": [],
   "source": [
    "train_batch_size = 64"
   ]
  },
  {
   "cell_type": "markdown",
   "metadata": {},
   "source": [
    "Function for performing a number of optimization iterations so as to gradually improve the variables of the network layers. In each iteration, a new batch of data is selected from the training-set and then TensorFlow executes the optimizer using those training samples.  The progress is printed every 100 iterations."
   ]
  },
  {
   "cell_type": "code",
   "execution_count": 53,
   "metadata": {},
   "outputs": [],
   "source": [
    "# Counter for total number of iterations performed so far.\n",
    "total_iterations = 0\n",
    "\n",
    "def optimize(num_iterations):\n",
    "    # Ensure we update the global variable rather than a local copy.\n",
    "    global total_iterations\n",
    "\n",
    "    # Start-time used for printing time-usage below.\n",
    "    start_time = time.time()\n",
    "\n",
    "    for i in range(total_iterations,\n",
    "                   total_iterations + num_iterations):\n",
    "\n",
    "        # Get a batch of training examples.\n",
    "        # x_batch now holds a batch of images and\n",
    "        # y_true_batch are the true labels for those images.\n",
    "        x_batch, y_true_batch = data.train.next_batch(train_batch_size)\n",
    "\n",
    "        # Put the batch into a dict with the proper names\n",
    "        # for placeholder variables in the TensorFlow graph.\n",
    "        feed_dict_train = {x: x_batch,\n",
    "                           y_true: y_true_batch}\n",
    "\n",
    "        # Run the optimizer using this batch of training data.\n",
    "        # TensorFlow assigns the variables in feed_dict_train\n",
    "        # to the placeholder variables and then runs the optimizer.\n",
    "        session.run(optimizer, feed_dict=feed_dict_train)\n",
    "\n",
    "        # Print status every 100 iterations.\n",
    "        if i % 100 == 0:\n",
    "            # Calculate the accuracy on the training-set.\n",
    "            acc = session.run(accuracy, feed_dict=feed_dict_train)\n",
    "\n",
    "            # Message for printing.\n",
    "            msg = \"Optimization Iteration: {0:>6}, Training Accuracy: {1:>6.1%}\"\n",
    "\n",
    "            # Print it.\n",
    "            print(msg.format(i + 1, acc))\n",
    "            \n",
    "      \n",
    "        if (total_iterations % 1000 == 0) or (i == num_iterations - 1):\n",
    "            # Save all variables of the TensorFlow graph to a\n",
    "            # checkpoint. Append the global_step counter\n",
    "            # to the filename so we save the last several checkpoints.\n",
    "            saver.save(session,\n",
    "                       save_path=save_path,\n",
    "                       global_step = total_iterations)\n",
    "\n",
    "            print(\"Saved checkpoint.\")\n",
    "            \n",
    "        total_iterations += 1\n",
    "\n",
    "\n",
    "    # Update the total number of iterations performed.\n",
    "    #total_iterations += num_iterations\n",
    "\n",
    "    # Ending time.\n",
    "    end_time = time.time()\n",
    "\n",
    "    # Difference between start and end-times.\n",
    "    time_dif = end_time - start_time\n",
    "\n",
    "    # Print the time-usage.\n",
    "    print(\"Time usage: \" + str(timedelta(seconds=int(round(time_dif)))))"
   ]
  },
  {
   "cell_type": "markdown",
   "metadata": {},
   "source": [
    "### Helper-function to plot example errors"
   ]
  },
  {
   "cell_type": "markdown",
   "metadata": {},
   "source": [
    "Function for plotting examples of images from the test-set that have been mis-classified."
   ]
  },
  {
   "cell_type": "code",
   "execution_count": 54,
   "metadata": {},
   "outputs": [],
   "source": [
    "def plot_example_errors(cls_pred, correct):\n",
    "    # This function is called from print_test_accuracy() below.\n",
    "\n",
    "    # cls_pred is an array of the predicted class-number for\n",
    "    # all images in the test-set.\n",
    "\n",
    "    # correct is a boolean array whether the predicted class\n",
    "    # is equal to the true class for each image in the test-set.\n",
    "\n",
    "    # Negate the boolean array.\n",
    "    incorrect = (correct == False)\n",
    "    \n",
    "    # Get the images from the test-set that have been\n",
    "    # incorrectly classified.\n",
    "    images = data.test.images[incorrect]\n",
    "    \n",
    "    # Get the predicted classes for those images.\n",
    "    cls_pred = cls_pred[incorrect]\n",
    "\n",
    "    # Get the true classes for those images.\n",
    "    cls_true = data.test.cls[incorrect]\n",
    "    \n",
    "    # Plot the first 9 images.\n",
    "    plot_images(images=images[0:9],\n",
    "                cls_true=cls_true[0:9],\n",
    "                cls_pred=cls_pred[0:9])"
   ]
  },
  {
   "cell_type": "markdown",
   "metadata": {},
   "source": [
    "### Helper-function to plot confusion matrix"
   ]
  },
  {
   "cell_type": "code",
   "execution_count": 55,
   "metadata": {},
   "outputs": [],
   "source": [
    "def plot_confusion_matrix(cls_pred):\n",
    "    # This is called from print_test_accuracy() below.\n",
    "\n",
    "    # cls_pred is an array of the predicted class-number for\n",
    "    # all images in the test-set.\n",
    "\n",
    "    # Get the true classifications for the test-set.\n",
    "    cls_true = data.test.cls\n",
    "    \n",
    "    # Get the confusion matrix using sklearn.\n",
    "    cm = confusion_matrix(y_true=cls_true,\n",
    "                          y_pred=cls_pred)\n",
    "\n",
    "    # Print the confusion matrix as text.\n",
    "    print(cm)\n",
    "\n",
    "    # Plot the confusion matrix as an image.\n",
    "    plt.matshow(cm)\n",
    "\n",
    "    # Make various adjustments to the plot.\n",
    "    plt.colorbar()\n",
    "    tick_marks = np.arange(num_classes)\n",
    "    plt.xticks(tick_marks, range(num_classes))\n",
    "    plt.yticks(tick_marks, range(num_classes))\n",
    "    plt.xlabel('Predicted')\n",
    "    plt.ylabel('True')\n",
    "\n",
    "    # Ensure the plot is shown correctly with multiple plots\n",
    "    # in a single Notebook cell.\n",
    "    plt.show()"
   ]
  },
  {
   "cell_type": "markdown",
   "metadata": {},
   "source": [
    "### Helper-function for showing the performance"
   ]
  },
  {
   "cell_type": "markdown",
   "metadata": {},
   "source": [
    "Function for printing the classification accuracy on the test-set.\n",
    "\n",
    "It takes a while to compute the classification for all the images in the test-set, that's why the results are re-used by calling the above functions directly from this function, so the classifications don't have to be recalculated by each function.\n",
    "\n",
    "Note that this function can use a lot of computer memory, which is why the test-set is split into smaller batches. If you have little RAM in your computer and it crashes, then you can try and lower the batch-size."
   ]
  },
  {
   "cell_type": "code",
   "execution_count": 56,
   "metadata": {},
   "outputs": [],
   "source": [
    "# Split the test-set into smaller batches of this size.\n",
    "test_batch_size = 256\n",
    "\n",
    "def print_test_accuracy(show_example_errors=False,\n",
    "                        show_confusion_matrix=False):\n",
    "\n",
    "    # Number of images in the test-set.\n",
    "    num_test = len(data.test.images)\n",
    "\n",
    "    # Allocate an array for the predicted classes which\n",
    "    # will be calculated in batches and filled into this array.\n",
    "    cls_pred = np.zeros(shape=num_test, dtype=np.int)\n",
    "\n",
    "    # Now calculate the predicted classes for the batches.\n",
    "    # We will just iterate through all the batches.\n",
    "    # There might be a more clever and Pythonic way of doing this.\n",
    "\n",
    "    # The starting index for the next batch is denoted i.\n",
    "    i = 0\n",
    "\n",
    "    while i < num_test:\n",
    "        # The ending index for the next batch is denoted j.\n",
    "        j = min(i + test_batch_size, num_test)\n",
    "\n",
    "        # Get the images from the test-set between index i and j.\n",
    "        images = data.test.images[i:j, :]\n",
    "\n",
    "        # Get the associated labels.\n",
    "        labels = data.test.labels[i:j, :]\n",
    "\n",
    "        # Create a feed-dict with these images and labels.\n",
    "        feed_dict = {x: images,\n",
    "                     y_true: labels}\n",
    "\n",
    "        # Calculate the predicted class using TensorFlow.\n",
    "        cls_pred[i:j] = session.run(y_pred_cls, feed_dict=feed_dict)\n",
    "\n",
    "        # Set the start-index for the next batch to the\n",
    "        # end-index of the current batch.\n",
    "        i = j\n",
    "\n",
    "    # Convenience variable for the true class-numbers of the test-set.\n",
    "    cls_true = data.test.cls\n",
    "\n",
    "    # Create a boolean array whether each image is correctly classified.\n",
    "    correct = (cls_true == cls_pred)\n",
    "\n",
    "    # Calculate the number of correctly classified images.\n",
    "    # When summing a boolean array, False means 0 and True means 1.\n",
    "    correct_sum = correct.sum()\n",
    "\n",
    "    # Classification accuracy is the number of correctly classified\n",
    "    # images divided by the total number of images in the test-set.\n",
    "    acc = float(correct_sum) / num_test\n",
    "\n",
    "    # Print the accuracy.\n",
    "    msg = \"Accuracy on Test-Set: {0:.1%} ({1} / {2})\"\n",
    "    print(msg.format(acc, correct_sum, num_test))\n",
    "\n",
    "    # Plot some examples of mis-classifications, if desired.\n",
    "    if show_example_errors:\n",
    "        print(\"Example errors:\")\n",
    "        plot_example_errors(cls_pred=cls_pred, correct=correct)\n",
    "\n",
    "    # Plot the confusion matrix, if desired.\n",
    "    if show_confusion_matrix:\n",
    "        print(\"Confusion Matrix:\")\n",
    "        plot_confusion_matrix(cls_pred=cls_pred)"
   ]
  },
  {
   "cell_type": "markdown",
   "metadata": {},
   "source": [
    "## Performance before any optimization\n",
    "\n",
    "The accuracy on the test-set is very low because the model variables have only been initialized and not optimized at all, so it just classifies the images randomly."
   ]
  },
  {
   "cell_type": "code",
   "execution_count": 57,
   "metadata": {},
   "outputs": [
    {
     "name": "stdout",
     "output_type": "stream",
     "text": [
      "Accuracy on Test-Set: 8.1% (810 / 10000)\n"
     ]
    }
   ],
   "source": [
    "print_test_accuracy()"
   ]
  },
  {
   "cell_type": "markdown",
   "metadata": {},
   "source": [
    "## Performance after 1 optimization iteration\n",
    "\n",
    "The classification accuracy does not improve much from just 1 optimization iteration, because the learning-rate for the optimizer is set very low."
   ]
  },
  {
   "cell_type": "code",
   "execution_count": 1600,
   "metadata": {},
   "outputs": [
    {
     "name": "stdout",
     "output_type": "stream",
     "text": [
      "Optimization Iteration:      1, Training Accuracy:   6.2%\n",
      "Saved checkpoint.\n",
      "Time usage: 0:00:01\n"
     ]
    }
   ],
   "source": [
    "optimize(num_iterations=1)"
   ]
  },
  {
   "cell_type": "code",
   "execution_count": 1601,
   "metadata": {
    "scrolled": true
   },
   "outputs": [
    {
     "name": "stdout",
     "output_type": "stream",
     "text": [
      "Accuracy on Test-Set: 9.8% (976 / 10000)\n",
      "3.417271852493286\n"
     ]
    }
   ],
   "source": [
    "a = time.time()\n",
    "print_test_accuracy()\n",
    "b = time.time()\n",
    "c = b-a\n",
    "print(c)"
   ]
  },
  {
   "cell_type": "markdown",
   "metadata": {},
   "source": [
    "## Performance after 100 optimization iterations\n",
    "\n",
    "After 100 optimization iterations, the model has significantly improved its classification accuracy."
   ]
  },
  {
   "cell_type": "code",
   "execution_count": 1602,
   "metadata": {
    "scrolled": true
   },
   "outputs": [
    {
     "name": "stdout",
     "output_type": "stream",
     "text": [
      "Saved checkpoint.\n",
      "Time usage: 0:00:06\n"
     ]
    }
   ],
   "source": [
    "optimize(num_iterations=99) # We already performed 1 iteration above."
   ]
  },
  {
   "cell_type": "code",
   "execution_count": 1603,
   "metadata": {},
   "outputs": [
    {
     "name": "stdout",
     "output_type": "stream",
     "text": [
      "Accuracy on Test-Set: 67.5% (6752 / 10000)\n",
      "Example errors:\n"
     ]
    },
    {
     "data": {
      "image/png": "[encoded data removed]",
      "text/plain": [
       "<Figure size 432x288 with 9 Axes>"
      ]
     },
     "metadata": {},
     "output_type": "display_data"
    }
   ],
   "source": [
    "print_test_accuracy(show_example_errors=True)"
   ]
  },
  {
   "cell_type": "markdown",
   "metadata": {},
   "source": [
    "## Performance after 1000 optimization iterations\n",
    "\n",
    "After 1000 optimization iterations, the model has greatly increased its accuracy on the test-set to more than 90%."
   ]
  },
  {
   "cell_type": "code",
   "execution_count": 1604,
   "metadata": {
    "scrolled": false
   },
   "outputs": [
    {
     "name": "stdout",
     "output_type": "stream",
     "text": [
      "Optimization Iteration:    101, Training Accuracy:  56.2%\n",
      "Optimization Iteration:    201, Training Accuracy:  78.1%\n",
      "Optimization Iteration:    301, Training Accuracy:  84.4%\n",
      "Optimization Iteration:    401, Training Accuracy:  87.5%\n",
      "Optimization Iteration:    501, Training Accuracy:  96.9%\n",
      "Optimization Iteration:    601, Training Accuracy:  84.4%\n",
      "Optimization Iteration:    701, Training Accuracy:  85.9%\n",
      "Optimization Iteration:    801, Training Accuracy:  93.8%\n",
      "Saved checkpoint.\n",
      "Optimization Iteration:    901, Training Accuracy:  96.9%\n",
      "Time usage: 0:00:51\n"
     ]
    }
   ],
   "source": [
    "optimize(num_iterations=900) # We performed 100 iterations above."
   ]
  },
  {
   "cell_type": "code",
   "execution_count": 1385,
   "metadata": {
    "scrolled": false
   },
   "outputs": [
    {
     "name": "stdout",
     "output_type": "stream",
     "text": [
      "Accuracy on Test-Set: 92.7% (9273 / 10000)\n",
      "Example errors:\n"
     ]
    },
    {
     "data": {
      "image/png": "[encoded data removed]",
      "text/plain": [
       "<Figure size 432x288 with 9 Axes>"
      ]
     },
     "metadata": {},
     "output_type": "display_data"
    }
   ],
   "source": [
    "print_test_accuracy(show_example_errors=True)"
   ]
  },
  {
   "cell_type": "code",
   "execution_count": 1386,
   "metadata": {},
   "outputs": [
    {
     "data": {
      "text/plain": [
       "1000"
      ]
     },
     "execution_count": 1386,
     "metadata": {},
     "output_type": "execute_result"
    }
   ],
   "source": [
    "total_iterations"
   ]
  },
  {
   "cell_type": "markdown",
   "metadata": {},
   "source": [
    "## Performance after 10,000 optimization iterations\n",
    "\n",
    "After 10,000 optimization iterations, the model has a classification accuracy on the test-set of about 99%."
   ]
  },
  {
   "cell_type": "code",
   "execution_count": 1676,
   "metadata": {
    "scrolled": false
   },
   "outputs": [
    {
     "name": "stdout",
     "output_type": "stream",
     "text": [
      "Optimization Iteration:   1001, Training Accuracy:  96.9%\n",
      "Saved checkpoint.\n",
      "Optimization Iteration:   1101, Training Accuracy:  92.2%\n",
      "Optimization Iteration:   1201, Training Accuracy:  89.1%\n",
      "Optimization Iteration:   1301, Training Accuracy:  92.2%\n",
      "Optimization Iteration:   1401, Training Accuracy:  89.1%\n",
      "Optimization Iteration:   1501, Training Accuracy:  93.8%\n",
      "Optimization Iteration:   1601, Training Accuracy:  93.8%\n",
      "Optimization Iteration:   1701, Training Accuracy:  93.8%\n",
      "Optimization Iteration:   1801, Training Accuracy:  95.3%\n",
      "Optimization Iteration:   1901, Training Accuracy:  93.8%\n",
      "Optimization Iteration:   2001, Training Accuracy:  93.8%\n",
      "Saved checkpoint.\n",
      "Optimization Iteration:   2101, Training Accuracy:  92.2%\n",
      "Optimization Iteration:   2201, Training Accuracy:  95.3%\n",
      "Optimization Iteration:   2301, Training Accuracy: 100.0%\n",
      "Optimization Iteration:   2401, Training Accuracy:  92.2%\n",
      "Optimization Iteration:   2501, Training Accuracy: 100.0%\n",
      "Optimization Iteration:   2601, Training Accuracy:  92.2%\n",
      "Optimization Iteration:   2701, Training Accuracy:  96.9%\n",
      "Optimization Iteration:   2801, Training Accuracy:  95.3%\n",
      "Optimization Iteration:   2901, Training Accuracy:  95.3%\n",
      "Optimization Iteration:   3001, Training Accuracy:  90.6%\n",
      "Saved checkpoint.\n",
      "Optimization Iteration:   3101, Training Accuracy: 100.0%\n",
      "Optimization Iteration:   3201, Training Accuracy:  95.3%\n",
      "Optimization Iteration:   3301, Training Accuracy: 100.0%\n",
      "Optimization Iteration:   3401, Training Accuracy:  87.5%\n",
      "Optimization Iteration:   3501, Training Accuracy:  98.4%\n",
      "Optimization Iteration:   3601, Training Accuracy:  95.3%\n",
      "Optimization Iteration:   3701, Training Accuracy: 100.0%\n",
      "Optimization Iteration:   3801, Training Accuracy:  98.4%\n",
      "Optimization Iteration:   3901, Training Accuracy:  95.3%\n",
      "Optimization Iteration:   4001, Training Accuracy:  95.3%\n",
      "Saved checkpoint.\n",
      "Optimization Iteration:   4101, Training Accuracy:  98.4%\n",
      "Optimization Iteration:   4201, Training Accuracy:  98.4%\n",
      "Optimization Iteration:   4301, Training Accuracy:  98.4%\n",
      "Optimization Iteration:   4401, Training Accuracy:  98.4%\n",
      "Optimization Iteration:   4501, Training Accuracy:  96.9%\n",
      "Optimization Iteration:   4601, Training Accuracy: 100.0%\n",
      "Optimization Iteration:   4701, Training Accuracy:  96.9%\n",
      "Optimization Iteration:   4801, Training Accuracy:  98.4%\n",
      "Optimization Iteration:   4901, Training Accuracy:  96.9%\n",
      "Optimization Iteration:   5001, Training Accuracy:  98.4%\n",
      "Saved checkpoint.\n",
      "Optimization Iteration:   5101, Training Accuracy:  95.3%\n",
      "Optimization Iteration:   5201, Training Accuracy:  96.9%\n",
      "Optimization Iteration:   5301, Training Accuracy:  98.4%\n",
      "Optimization Iteration:   5401, Training Accuracy:  93.8%\n",
      "Optimization Iteration:   5501, Training Accuracy: 100.0%\n",
      "Optimization Iteration:   5601, Training Accuracy:  98.4%\n",
      "Optimization Iteration:   5701, Training Accuracy:  98.4%\n",
      "Optimization Iteration:   5801, Training Accuracy:  96.9%\n",
      "Optimization Iteration:   5901, Training Accuracy:  96.9%\n",
      "Optimization Iteration:   6001, Training Accuracy:  98.4%\n",
      "Saved checkpoint.\n",
      "Optimization Iteration:   6101, Training Accuracy: 100.0%\n",
      "Optimization Iteration:   6201, Training Accuracy:  98.4%\n",
      "Optimization Iteration:   6301, Training Accuracy: 100.0%\n",
      "Optimization Iteration:   6401, Training Accuracy: 100.0%\n",
      "Optimization Iteration:   6501, Training Accuracy:  93.8%\n",
      "Optimization Iteration:   6601, Training Accuracy:  98.4%\n",
      "Optimization Iteration:   6701, Training Accuracy: 100.0%\n",
      "Optimization Iteration:   6801, Training Accuracy:  98.4%\n",
      "Optimization Iteration:   6901, Training Accuracy:  95.3%\n",
      "Optimization Iteration:   7001, Training Accuracy: 100.0%\n",
      "Saved checkpoint.\n",
      "Optimization Iteration:   7101, Training Accuracy:  98.4%\n",
      "Optimization Iteration:   7201, Training Accuracy:  95.3%\n",
      "Optimization Iteration:   7301, Training Accuracy:  96.9%\n",
      "Optimization Iteration:   7401, Training Accuracy: 100.0%\n",
      "Optimization Iteration:   7501, Training Accuracy: 100.0%\n",
      "Optimization Iteration:   7601, Training Accuracy:  95.3%\n",
      "Optimization Iteration:   7701, Training Accuracy: 100.0%\n",
      "Optimization Iteration:   7801, Training Accuracy:  93.8%\n",
      "Optimization Iteration:   7901, Training Accuracy: 100.0%\n",
      "Optimization Iteration:   8001, Training Accuracy:  98.4%\n",
      "Saved checkpoint.\n",
      "Optimization Iteration:   8101, Training Accuracy:  96.9%\n",
      "Optimization Iteration:   8201, Training Accuracy:  98.4%\n",
      "Optimization Iteration:   8301, Training Accuracy: 100.0%\n",
      "Optimization Iteration:   8401, Training Accuracy:  96.9%\n",
      "Optimization Iteration:   8501, Training Accuracy: 100.0%\n",
      "Optimization Iteration:   8601, Training Accuracy:  96.9%\n",
      "Optimization Iteration:   8701, Training Accuracy:  98.4%\n",
      "Optimization Iteration:   8801, Training Accuracy:  96.9%\n",
      "Optimization Iteration:   8901, Training Accuracy:  98.4%\n",
      "Saved checkpoint.\n",
      "Optimization Iteration:   9001, Training Accuracy:  98.4%\n",
      "Saved checkpoint.\n",
      "Optimization Iteration:   9101, Training Accuracy:  98.4%\n",
      "Optimization Iteration:   9201, Training Accuracy: 100.0%\n",
      "Optimization Iteration:   9301, Training Accuracy: 100.0%\n",
      "Optimization Iteration:   9401, Training Accuracy:  98.4%\n",
      "Optimization Iteration:   9501, Training Accuracy: 100.0%\n",
      "Optimization Iteration:   9601, Training Accuracy:  98.4%\n",
      "Optimization Iteration:   9701, Training Accuracy:  98.4%\n",
      "Optimization Iteration:   9801, Training Accuracy:  98.4%\n",
      "Optimization Iteration:   9901, Training Accuracy:  96.9%\n",
      "Time usage: 0:12:25\n"
     ]
    }
   ],
   "source": [
    "optimize(num_iterations=9000) # We performed 1000 iterations above."
   ]
  },
  {
   "cell_type": "code",
   "execution_count": 1677,
   "metadata": {
    "scrolled": true
   },
   "outputs": [
    {
     "name": "stdout",
     "output_type": "stream",
     "text": [
      "Accuracy on Test-Set: 98.7% (9873 / 10000)\n",
      "Example errors:\n"
     ]
    },
    {
     "data": {
      "image/png": "[encoded data removed]",
      "text/plain": [
       "<Figure size 432x288 with 9 Axes>"
      ]
     },
     "metadata": {},
     "output_type": "display_data"
    },
    {
     "name": "stdout",
     "output_type": "stream",
     "text": [
      "Confusion Matrix:\n",
      "[[ 974    0    1    0    0    0    1    1    3    0]\n",
      " [   0 1129    2    0    0    0    1    0    3    0]\n",
      " [   2    3 1015    1    0    0    0    3    8    0]\n",
      " [   1    0    0  999    0    5    0    1    4    0]\n",
      " [   0    0    2    0  966    0    3    3    1    7]\n",
      " [   1    0    0    6    0  882    1    1    1    0]\n",
      " [   3    2    0    0    2    4  947    0    0    0]\n",
      " [   0    2    6    3    0    0    0 1012    2    3]\n",
      " [   3    0    1    2    1    1    0    2  962    2]\n",
      " [   0    5    1    2    6    4    0    1    3  987]]\n"
     ]
    },
    {
     "data": {
      "image/png": "[encoded data removed]",
      "text/plain": [
       "<Figure size 288x288 with 2 Axes>"
      ]
     },
     "metadata": {},
     "output_type": "display_data"
    }
   ],
   "source": [
    "print_test_accuracy(show_example_errors=True,\n",
    "                    show_confusion_matrix=True)"
   ]
  },
  {
   "cell_type": "markdown",
   "metadata": {},
   "source": [
    "## Store the original weights"
   ]
  },
  {
   "cell_type": "code",
   "execution_count": 58,
   "metadata": {},
   "outputs": [],
   "source": [
    "w_conv1_original = session.run(weights_conv1)\n",
    "w_conv2_original = session.run(weights_conv2)\n",
    "w_fc1_original = session.run(weights_fc1)\n",
    "w_fc2_original = session.run(weights_fc2)"
   ]
  },
  {
   "cell_type": "code",
   "execution_count": 59,
   "metadata": {},
   "outputs": [
    {
     "data": {
      "text/plain": [
       "(1764, 128)"
      ]
     },
     "execution_count": 59,
     "metadata": {},
     "output_type": "execute_result"
    }
   ],
   "source": [
    "w_fc1_original.shape"
   ]
  },
  {
   "cell_type": "code",
   "execution_count": 60,
   "metadata": {},
   "outputs": [],
   "source": [
    "wOrigConv = [w_conv1_original,w_conv2_original]\n",
    "wOrigFc = [w_fc1_original]"
   ]
  },
  {
   "cell_type": "code",
   "execution_count": 61,
   "metadata": {},
   "outputs": [
    {
     "data": {
      "text/plain": [
       "array([[-0.03958915,  0.07843113,  0.02364246,  0.00686063,  0.01718021],\n",
       "       [-0.02273587, -0.02984485,  0.01136602, -0.0108163 ,  0.00807993],\n",
       "       [-0.02840845, -0.01221169, -0.02026514, -0.0401889 ,  0.06176878],\n",
       "       [ 0.0779571 , -0.0134433 , -0.03429384, -0.0089238 , -0.00398846],\n",
       "       [ 0.03558088, -0.01933089,  0.06688001,  0.00286205,  0.08157248]],\n",
       "      dtype=float32)"
      ]
     },
     "execution_count": 61,
     "metadata": {},
     "output_type": "execute_result"
    }
   ],
   "source": [
    "w_conv1_original[:,:,0,1]"
   ]
  },
  {
   "cell_type": "code",
   "execution_count": 62,
   "metadata": {},
   "outputs": [
    {
     "data": {
      "text/plain": [
       "array([[ 0.06255824, -0.0497325 ,  0.09082793, -0.06753065,  0.08690862],\n",
       "       [ 0.05390437, -0.02467614, -0.00579112, -0.05087964,  0.03442537],\n",
       "       [ 0.01550892,  0.01191395, -0.02582882,  0.07766929, -0.00633002],\n",
       "       [ 0.04688216, -0.01236841, -0.04661293,  0.04563002, -0.09001318],\n",
       "       [-0.0215697 ,  0.05626507, -0.01902724, -0.02132089,  0.06346156]],\n",
       "      dtype=float32)"
      ]
     },
     "execution_count": 62,
     "metadata": {},
     "output_type": "execute_result"
    }
   ],
   "source": [
    "w_conv2_original[:,:,15,35]"
   ]
  },
  {
   "cell_type": "markdown",
   "metadata": {},
   "source": [
    "## Restore Original Weights"
   ]
  },
  {
   "cell_type": "code",
   "execution_count": 66,
   "metadata": {},
   "outputs": [],
   "source": [
    "def restoreWeights():\n",
    "    for wIdx in range(0,len(weightsConvMat)):\n",
    "            assign_op = weightsConvMat[wIdx].assign(wOrigConv[wIdx])\n",
    "            session.run(assign_op)\n",
    "\n",
    "    for wIdx in range(0,len(weightsFcMat)):\n",
    "            assign_op = weightsFcMat[wIdx].assign(wOrigFc[wIdx])\n",
    "            session.run(assign_op)"
   ]
  },
  {
   "cell_type": "code",
   "execution_count": 67,
   "metadata": {},
   "outputs": [],
   "source": [
    "restoreWeights()"
   ]
  },
  {
   "cell_type": "markdown",
   "metadata": {},
   "source": [
    "## Create list of weights_conv and assign to alternate varialbles"
   ]
  },
  {
   "cell_type": "markdown",
   "metadata": {},
   "source": [
    "# This is the point of contraption where we will re run from each time in order to calculate our ME values"
   ]
  },
  {
   "cell_type": "code",
   "execution_count": 377,
   "metadata": {},
   "outputs": [],
   "source": [
    "weightsConvMat = [weights_conv1,weights_conv2]\n",
    "weightsFcMat = [weights_fc1]\n",
    "\n",
    "wConv1 = session.run(weights_conv1)\n",
    "wConv2 = session.run(weights_conv2)\n",
    "\n",
    "wFc1 = session.run(weights_fc1)\n",
    "wFc2 = session.run(weights_fc2)\n",
    "\n",
    "wConv = [wConv1,wConv2]\n",
    "wFc = [wFc2]"
   ]
  },
  {
   "cell_type": "code",
   "execution_count": 378,
   "metadata": {},
   "outputs": [
    {
     "data": {
      "text/plain": [
       "(5, 5, 16, 36)"
      ]
     },
     "execution_count": 378,
     "metadata": {},
     "output_type": "execute_result"
    }
   ],
   "source": [
    "wConv[1].shape"
   ]
  },
  {
   "cell_type": "markdown",
   "metadata": {},
   "source": [
    "## Create List that will hold the difference between 2 filters"
   ]
  },
  {
   "cell_type": "code",
   "execution_count": 379,
   "metadata": {},
   "outputs": [],
   "source": [
    "wDiffConv = [] + wOrigConv\n",
    "wDiffFc = [] + wOrigFc"
   ]
  },
  {
   "cell_type": "markdown",
   "metadata": {},
   "source": [
    "## Create Alternate Filters"
   ]
  },
  {
   "cell_type": "markdown",
   "metadata": {},
   "source": [
    "### Negative values to zero"
   ]
  },
  {
   "cell_type": "code",
   "execution_count": 380,
   "metadata": {},
   "outputs": [],
   "source": [
    "def roundToZeroFilter(wtListConv,wtListFc):\n",
    "    num = len(wtListConv)\n",
    "    \n",
    "    for wtMat in wtListConv:\n",
    "        shape = wtMat.shape\n",
    "        xlen = shape[0]\n",
    "        ylen = shape[1]\n",
    "        numChnls = shape[2]\n",
    "        numFilters = shape[3]\n",
    "\n",
    "        for c in range(0,numChnls):\n",
    "            for i in range(0,numFilters):\n",
    "                for j in range(0,xlen):\n",
    "                    for k in range(0,ylen):\n",
    "                        if wtMat[j,k,c,i] < 0:\n",
    "                            wtMat[j,k,c,i] = 0#float('%.5f'%(w[j,k,0,i]))\n",
    "                            \n",
    "    for wtMat in wtListFc:\n",
    "        shape = wtMat.shape\n",
    "        xlen = shape[0]\n",
    "        ylen = shape[1]\n",
    "        \n",
    "        for i in range(0,xlen):\n",
    "            j=0\n",
    "            while j<ylen:\n",
    "                if wtMat[i,j] < 0:\n",
    "                    wtMat[i,j] = 0\n",
    "                j=j+1;\n",
    "\n",
    "\n",
    "#roundToZeroFilter(w)"
   ]
  },
  {
   "cell_type": "markdown",
   "metadata": {},
   "source": [
    "### Centroid based averaging filter"
   ]
  },
  {
   "cell_type": "code",
   "execution_count": 381,
   "metadata": {},
   "outputs": [],
   "source": [
    "def centroidFilter(wtListConv,wtListFc):\n",
    "    num = len(wtListConv)\n",
    "    \n",
    "    for wtMat in wtListConv:\n",
    "        shape = wtMat.shape\n",
    "        xlen = shape[0]\n",
    "        ylen = shape[1]\n",
    "        numChnls = shape[2]\n",
    "        numFilters = shape[3]\n",
    "\n",
    "        for c in range(0,numChnls):\n",
    "            for i in range(0,numFilters):\n",
    "                for j in range(0,xlen,2):\n",
    "                    for k in range(0,ylen,2):\n",
    "                        first = wtMat[j,k,c,i]\n",
    "                        if j+1 < xlen:\n",
    "                            second = wtMat[j+1,k,c,i]\n",
    "                        else:\n",
    "                            second = 0\n",
    "                        if k+1 < xlen:\n",
    "                            third = wtMat[j,k+1,c,i]\n",
    "                        else:\n",
    "                            third = 0\n",
    "                        if j+1 < xlen and k+1 < ylen:\n",
    "                            forth = wtMat[j+1,k+1,c,i]\n",
    "                        else:\n",
    "                            forth = 0\n",
    "                        total = 0.0\n",
    "                        total = float(first + second + third + forth)\n",
    "                        total /= 4\n",
    "                        wtMat[j,k,c,i] = total\n",
    "                        if j+1 < xlen:\n",
    "                            wtMat[j+1,k,c,i] = total\n",
    "                        if k+1 < xlen:\n",
    "                            wtMat[j,k+1,c,i] = total\n",
    "                        if j+1 < xlen and k+1 < ylen:\n",
    "                            wtMat[j+1,k+1,c,i] = total\n",
    "                        #if wtMat[j,k,0,i] < 0:\n",
    "                        #    wtMat[j,k,0,i] = 0#float('%.5f'%(w[j,k,0,i]))\n",
    "                        \n",
    "    for wtMat in wtListFc:\n",
    "        shape = wtMat.shape\n",
    "        xlen = shape[0]\n",
    "        ylen = shape[1]\n",
    "        \n",
    "        for i in range(0,xlen):\n",
    "            j=0\n",
    "            while j<ylen:\n",
    "                first = wtMat[i,j] \n",
    "                second = wtMat[i,j+1]\n",
    "                avg = (first+second)/2\n",
    "                wtMat[i,j] = avg\n",
    "                wtMat[i,j+1] = avg\n",
    "                j = j+2\n",
    "            \n",
    "\n",
    "\n",
    "#centroidFilter(w)"
   ]
  },
  {
   "cell_type": "markdown",
   "metadata": {},
   "source": [
    "### Truncating the decimal "
   ]
  },
  {
   "cell_type": "code",
   "execution_count": 382,
   "metadata": {},
   "outputs": [],
   "source": [
    "def truncateFilter(wtListConv,wtListFc):\n",
    "    num = len(wtListConv)\n",
    "    \n",
    "    \n",
    "    for wtMat in wtListConv:\n",
    "        shape = wtMat.shape\n",
    "        xlen = shape[0]\n",
    "        ylen = shape[1]\n",
    "        numChnls = shape[2]\n",
    "        numFilters = shape[3]\n",
    "\n",
    "        for c in range(0,numChnls):\n",
    "            for i in range(0,numFilters):\n",
    "                for j in range(0,xlen):\n",
    "                    for k in range(0,ylen):\n",
    "                        wtMat[j,k,c,i] = float('%.5f'%(wtMat[j,k,c,i]))\n",
    "                        \n",
    "                        \n",
    "    for wtMat in wtListFc:\n",
    "        shape = wtMat.shape\n",
    "        xlen = shape[0]\n",
    "        ylen = shape[1]\n",
    "        \n",
    "        for i in range(0,xlen):\n",
    "            j=0\n",
    "            while j<ylen:\n",
    "                wtMat[i,j]=float('%.5f'%(wtMat[i,j]))\n",
    "                j=j+1;\n",
    "\n",
    "                        \n",
    "    \n",
    "#truncateFilter(w)"
   ]
  },
  {
   "cell_type": "code",
   "execution_count": 383,
   "metadata": {},
   "outputs": [],
   "source": [
    "def borderFilter(wtListConv):\n",
    "   \n",
    "   for wtMat in wtListConv:\n",
    "       shape = wtMat.shape\n",
    "       xlen = shape[0]\n",
    "       ylen = shape[1]\n",
    "       numChnls = shape[2]\n",
    "       numFilters = shape[3]\n",
    "\n",
    "       for c in range(0,numChnls):\n",
    "           for i in range(0,numFilters):\n",
    "               for j in range(0, xlen):\n",
    "                   for k in range(0,ylen):\n",
    "                       if(k%4 == 0 or j%4 == 0):\n",
    "                           wtMat[j,k,c,i] = 0"
   ]
  },
  {
   "cell_type": "code",
   "execution_count": 384,
   "metadata": {},
   "outputs": [],
   "source": [
    "#centroidFilter(wConv,wFc)\n",
    "\n",
    "\n",
    "#truncateFilter(w)"
   ]
  },
  {
   "cell_type": "code",
   "execution_count": 385,
   "metadata": {},
   "outputs": [
    {
     "data": {
      "text/plain": [
       "[array([[ 0.03068447, -0.00965647, -0.01142483, ...,  0.05087671,\n",
       "          0.04459288, -0.02445482],\n",
       "        [-0.03148327,  0.02169844, -0.03918164, ..., -0.01645903,\n",
       "         -0.05114222, -0.00500273],\n",
       "        [ 0.02594237, -0.0361441 , -0.00201871, ...,  0.00563121,\n",
       "          0.024864  , -0.00302239],\n",
       "        ...,\n",
       "        [-0.0260208 , -0.01939552, -0.00597973, ...,  0.0504789 ,\n",
       "          0.04906132, -0.01091877],\n",
       "        [ 0.04498592,  0.02605952,  0.07573774, ..., -0.05703491,\n",
       "         -0.06683789,  0.00584046],\n",
       "        [ 0.03096328, -0.00484195, -0.01011974, ...,  0.02874422,\n",
       "         -0.0892266 ,  0.03115093]], dtype=float32)]"
      ]
     },
     "execution_count": 385,
     "metadata": {},
     "output_type": "execute_result"
    }
   ],
   "source": [
    "wFc"
   ]
  },
  {
   "cell_type": "code",
   "execution_count": 386,
   "metadata": {},
   "outputs": [
    {
     "data": {
      "text/plain": [
       "array([[0.00325, 0.00325, 0.01382, 0.01382, 0.     ],\n",
       "       [0.00325, 0.00325, 0.01382, 0.01382, 0.     ],\n",
       "       [0.     , 0.     , 0.     , 0.     , 0.     ],\n",
       "       [0.     , 0.     , 0.     , 0.     , 0.     ],\n",
       "       [0.     , 0.     , 0.     , 0.     , 0.     ]], dtype=float32)"
      ]
     },
     "execution_count": 386,
     "metadata": {},
     "output_type": "execute_result"
    }
   ],
   "source": [
    "wConv[0][:,:,0,0]"
   ]
  },
  {
   "cell_type": "markdown",
   "metadata": {},
   "source": [
    "## Testing and Assigning the alternate filters"
   ]
  },
  {
   "cell_type": "code",
   "execution_count": 387,
   "metadata": {},
   "outputs": [],
   "source": [
    "def assignFilters(wConv,wFc):\n",
    "    for wIdx in range(0,len(weightsConvMat)):\n",
    "        assign_op = weightsConvMat[wIdx].assign(wConv[wIdx])\n",
    "        session.run(assign_op)\n",
    "        \n",
    "    for wIdx in range(0,len(weightsFcMat)):\n",
    "        assign_op = weightsFcMat[wIdx].assign(wFc[wIdx])\n",
    "        session.run(assign_op)\n",
    "    \n",
    "#     a = time.time()\n",
    "#     print_test_accuracy()\n",
    "#     b = time.time()\n",
    "#     c = b-a\n",
    "#     print(c)\n"
   ]
  },
  {
   "cell_type": "code",
   "execution_count": 388,
   "metadata": {},
   "outputs": [],
   "source": [
    "assignFilters(wConv,wOrigFc)"
   ]
  },
  {
   "cell_type": "code",
   "execution_count": 389,
   "metadata": {},
   "outputs": [
    {
     "name": "stdout",
     "output_type": "stream",
     "text": [
      "Accuracy on Test-Set: 9.7% (974 / 10000)\n",
      "4.697523832321167\n"
     ]
    }
   ],
   "source": [
    "a = time.time()\n",
    "print_test_accuracy()\n",
    "b = time.time()\n",
    "c = b-a\n",
    "print(c)\n"
   ]
  },
  {
   "cell_type": "markdown",
   "metadata": {},
   "source": [
    "## Multiplication Error"
   ]
  },
  {
   "cell_type": "markdown",
   "metadata": {},
   "source": [
    "### Loading Image Data"
   ]
  },
  {
   "cell_type": "code",
   "execution_count": 390,
   "metadata": {},
   "outputs": [],
   "source": [
    "def loadValues(numImg):\n",
    "    #numImg = 100\n",
    "    image1 = data.test.images[0:numImg]\n",
    "    feed_dict = {x: image1}\n",
    "    values_conv1 = session.run(layer_conv1, feed_dict=feed_dict)\n",
    "    values_conv2 = session.run(layer_conv2, feed_dict=feed_dict)\n",
    "    values_fc1 = session.run(layer_fc1, feed_dict=feed_dict)\n",
    "    valuesConvMat = [values_conv1,values_conv2]\n",
    "    valuesFcMat = [values_fc1]\n",
    "    return valuesConvMat, valuesFcMat,numImg"
   ]
  },
  {
   "cell_type": "markdown",
   "metadata": {},
   "source": [
    "### Calculating ME for Conv Layer"
   ]
  },
  {
   "cell_type": "code",
   "execution_count": 391,
   "metadata": {},
   "outputs": [],
   "source": [
    "def calculateConvME(valuesMat):\n",
    "    shape = valuesMat.shape\n",
    "    valMat = valuesMat\n",
    "    numFilters = shape[3]\n",
    "\n",
    "    means = np.zeros(numFilters)\n",
    "    meanSum = np.zeros(numFilters)\n",
    "\n",
    "    for nImg in range(0,numImg):\n",
    "        meanSum = meanSum + means\n",
    "        for i in range(0,numFilters):\n",
    "            result = valMat[nImg,:,:,i]\n",
    "            result_sum = np.sum(result)\n",
    "            means[i] = result_sum\n",
    "\n",
    "    average = [x / numImg for x in meanSum]\n",
    "    averageSorted = np.sort(average)\n",
    "    return average, averageSorted"
   ]
  },
  {
   "cell_type": "code",
   "execution_count": 392,
   "metadata": {},
   "outputs": [],
   "source": [
    "def calculateFCME(valuesMat):\n",
    "    shape = valuesMat.shape\n",
    "    valMat = valuesMat\n",
    "    numFilters = shape[1]\n",
    "    print(valMat)\n",
    "    means = np.zeros(numFilters)\n",
    "    meanSum = np.zeros(numFilters)\n",
    "\n",
    "    for nImg in range(0,numImg):\n",
    "        meanSum = meanSum + means\n",
    "        for i in range(0,numFilters):\n",
    "            result = valMat[nImg,i]\n",
    "            result_sum = np.sum(result)\n",
    "            means[i] = result_sum\n",
    "\n",
    "    average = [x / numImg for x in meanSum]\n",
    "    averageSorted = np.sort(average)\n",
    "    return average, averageSorted"
   ]
  },
  {
   "cell_type": "code",
   "execution_count": 393,
   "metadata": {},
   "outputs": [],
   "source": [
    "def plotME(ME):\n",
    "    ypos = np.arange(len(ME))\n",
    "    y = ME\n",
    "    plt.bar(ypos,y,align='center')"
   ]
  },
  {
   "cell_type": "markdown",
   "metadata": {},
   "source": [
    "### Filter Policy (20% of the Top filters)"
   ]
  },
  {
   "cell_type": "code",
   "execution_count": 394,
   "metadata": {},
   "outputs": [],
   "source": [
    "def newApproxFilters(ME,wConvNew,wOrigConv):\n",
    "    sortedME = np.sort(ME)\n",
    "    length = len(ME)\n",
    "    thresh = (int)(length*0.8)\n",
    "    threshVal = sortedME[thresh]\n",
    "\n",
    "    shape = wConvNew.shape\n",
    "    numChnls = shape[2]\n",
    "    numFilters = shape[3]\n",
    "\n",
    "    for i in range(0,numFilters):\n",
    "        if ME[i] >= threshVal:\n",
    "            wConvNew[:,:,:,i] = wOrigConv[:,:,:,i]"
   ]
  },
  {
   "cell_type": "markdown",
   "metadata": {},
   "source": [
    "### Subtracting the two filters"
   ]
  },
  {
   "cell_type": "code",
   "execution_count": 395,
   "metadata": {},
   "outputs": [],
   "source": [
    "for i in range(len(wConv)):\n",
    "    wDiffConv[i] = np.absolute(wOrigConv[i] - wConv[i])"
   ]
  },
  {
   "cell_type": "code",
   "execution_count": 396,
   "metadata": {},
   "outputs": [
    {
     "ename": "ValueError",
     "evalue": "operands could not be broadcast together with shapes (1764,128) (128,10) ",
     "output_type": "error",
     "traceback": [
      "\u001b[0;31m---------------------------------------------------------------------------\u001b[0m",
      "\u001b[0;31mValueError\u001b[0m                                Traceback (most recent call last)",
      "\u001b[0;32m<ipython-input-396-d56e39072428>\u001b[0m in \u001b[0;36m<module>\u001b[0;34m()\u001b[0m\n\u001b[1;32m      1\u001b[0m \u001b[0;32mfor\u001b[0m \u001b[0mi\u001b[0m \u001b[0;32min\u001b[0m \u001b[0mrange\u001b[0m\u001b[0;34m(\u001b[0m\u001b[0mlen\u001b[0m\u001b[0;34m(\u001b[0m\u001b[0mwFc\u001b[0m\u001b[0;34m)\u001b[0m\u001b[0;34m)\u001b[0m\u001b[0;34m:\u001b[0m\u001b[0;34m\u001b[0m\u001b[0m\n\u001b[0;32m----> 2\u001b[0;31m     \u001b[0mwDiffFc\u001b[0m\u001b[0;34m[\u001b[0m\u001b[0mi\u001b[0m\u001b[0;34m]\u001b[0m \u001b[0;34m=\u001b[0m \u001b[0mnp\u001b[0m\u001b[0;34m.\u001b[0m\u001b[0mabsolute\u001b[0m\u001b[0;34m(\u001b[0m\u001b[0mwOrigFc\u001b[0m\u001b[0;34m[\u001b[0m\u001b[0mi\u001b[0m\u001b[0;34m]\u001b[0m \u001b[0;34m-\u001b[0m \u001b[0mwFc\u001b[0m\u001b[0;34m[\u001b[0m\u001b[0mi\u001b[0m\u001b[0;34m]\u001b[0m\u001b[0;34m)\u001b[0m\u001b[0;34m\u001b[0m\u001b[0m\n\u001b[0m",
      "\u001b[0;31mValueError\u001b[0m: operands could not be broadcast together with shapes (1764,128) (128,10) "
     ]
    }
   ],
   "source": [
    "for i in range(len(wFc)):\n",
    "    wDiffFc[i] = np.absolute(wOrigFc[i] - wFc[i])"
   ]
  },
  {
   "cell_type": "code",
   "execution_count": 397,
   "metadata": {},
   "outputs": [
    {
     "data": {
      "text/plain": [
       "TensorShape([Dimension(5), Dimension(5), Dimension(1), Dimension(16)])"
      ]
     },
     "execution_count": 397,
     "metadata": {},
     "output_type": "execute_result"
    }
   ],
   "source": [
    "weightsConvMat[0].shape"
   ]
  },
  {
   "cell_type": "code",
   "execution_count": 398,
   "metadata": {},
   "outputs": [
    {
     "data": {
      "text/plain": [
       "[array([[ 0.03068447, -0.00965647, -0.01142483, ...,  0.05087671,\n",
       "          0.04459288, -0.02445482],\n",
       "        [-0.03148327,  0.02169844, -0.03918164, ..., -0.01645903,\n",
       "         -0.05114222, -0.00500273],\n",
       "        [ 0.02594237, -0.0361441 , -0.00201871, ...,  0.00563121,\n",
       "          0.024864  , -0.00302239],\n",
       "        ...,\n",
       "        [-0.0260208 , -0.01939552, -0.00597973, ...,  0.0504789 ,\n",
       "          0.04906132, -0.01091877],\n",
       "        [ 0.04498592,  0.02605952,  0.07573774, ..., -0.05703491,\n",
       "         -0.06683789,  0.00584046],\n",
       "        [ 0.03096328, -0.00484195, -0.01011974, ...,  0.02874422,\n",
       "         -0.0892266 ,  0.03115093]], dtype=float32)]"
      ]
     },
     "execution_count": 398,
     "metadata": {},
     "output_type": "execute_result"
    }
   ],
   "source": [
    "wFc"
   ]
  },
  {
   "cell_type": "markdown",
   "metadata": {},
   "source": [
    "### Assign the values and Calculate the ME "
   ]
  },
  {
   "cell_type": "code",
   "execution_count": 399,
   "metadata": {},
   "outputs": [],
   "source": [
    "centroidFilter(wConv, wFc)"
   ]
  },
  {
   "cell_type": "code",
   "execution_count": 400,
   "metadata": {},
   "outputs": [
    {
     "data": {
      "text/plain": [
       "[array([[ 0.010514  ,  0.010514  , -0.0025346 , ..., -0.01525009,\n",
       "          0.01006903,  0.01006903],\n",
       "        [-0.00489241, -0.00489241,  0.02996491, ..., -0.0296928 ,\n",
       "         -0.02807247, -0.02807247],\n",
       "        [-0.00510087, -0.00510087,  0.03028226, ..., -0.00663018,\n",
       "          0.0109208 ,  0.0109208 ],\n",
       "        ...,\n",
       "        [-0.02270816, -0.02270816,  0.00023257, ...,  0.0174229 ,\n",
       "          0.01907128,  0.01907128],\n",
       "        [ 0.03552272,  0.03552272,  0.03794746, ..., -0.03560119,\n",
       "         -0.03049872, -0.03049872],\n",
       "        [ 0.01306066,  0.01306066, -0.0033861 , ...,  0.04107444,\n",
       "         -0.02903784, -0.02903784]], dtype=float32)]"
      ]
     },
     "execution_count": 400,
     "metadata": {},
     "output_type": "execute_result"
    }
   ],
   "source": [
    "wFc"
   ]
  },
  {
   "cell_type": "code",
   "execution_count": 401,
   "metadata": {},
   "outputs": [],
   "source": [
    "assignFilters(wConv,wOrigFc)\n",
    "\n",
    "assign_op = weightsConvMat[0].assign(wDiffConv[0])\n",
    "session.run(assign_op)\n",
    "\n",
    "valuesConvMat,valuesFcMat,numImg = loadValues(100)\n",
    "MEConv1,MEConv1Sorted = calculateConvME(valuesConvMat[0])\n",
    "\n",
    "MEFullyConnected1, MEFullyConnected1Sorted = calculateFCME(valuesFcMat[0])\n",
    "\n",
    "\n",
    "\n",
    "assignFilters(wConv,wOrigFc)\n",
    "\n",
    "assign_op = weightsConvMat[1].assign(wDiffConv[1])\n",
    "session.run(assign_op)\n",
    "\n",
    "valuesConvMat,valuesFcMat,numImg = loadValues(100)\n",
    "MEConv2,MEConv2Sorted = calculateConvME(valuesConvMat[1])\n",
    "\n",
    "##MEFullyConnected2, MEFullyConnected2Sorted = calculateFCME(valuesFcMat[1])\n",
    "\n",
    "\n",
    "\n",
    "MEConvMat = [MEConv1, MEConv2]\n",
    "MEFullyConnectedMat = [MEFullyConnected1]"
   ]
  },
  {
   "cell_type": "code",
   "execution_count": 402,
   "metadata": {},
   "outputs": [],
   "source": [
    "##centroidFilter(wConv,wFc)\n",
    "thisLength = len(MEFullyConnectedMat[0])\n",
    "\n"
   ]
  },
  {
   "cell_type": "code",
   "execution_count": 403,
   "metadata": {},
   "outputs": [
    {
     "data": {
      "text/plain": [
       "128"
      ]
     },
     "execution_count": 403,
     "metadata": {},
     "output_type": "execute_result"
    }
   ],
   "source": [
    "thisLength"
   ]
  },
  {
   "cell_type": "code",
   "execution_count": 404,
   "metadata": {},
   "outputs": [],
   "source": [
    "printingFCME = [] + MEFullyConnectedMat\n",
    "printingFCME = MEFullyConnectedMat[0]\n"
   ]
  },
  {
   "cell_type": "code",
   "execution_count": 405,
   "metadata": {},
   "outputs": [],
   "source": [
    "printingFCME.sort()"
   ]
  },
  {
   "cell_type": "code",
   "execution_count": 406,
   "metadata": {},
   "outputs": [
    {
     "data": {
      "text/plain": [
       "[0.0,\n",
       " 0.0,\n",
       " 0.0,\n",
       " 0.0,\n",
       " 0.0,\n",
       " 0.0,\n",
       " 0.0,\n",
       " 0.0,\n",
       " 0.0,\n",
       " 0.0,\n",
       " 0.0,\n",
       " 0.0,\n",
       " 0.0,\n",
       " 0.0,\n",
       " 0.0,\n",
       " 0.0,\n",
       " 0.0,\n",
       " 0.0,\n",
       " 0.0,\n",
       " 0.0,\n",
       " 0.0,\n",
       " 0.0,\n",
       " 0.0,\n",
       " 0.0,\n",
       " 0.0,\n",
       " 0.0,\n",
       " 0.0,\n",
       " 0.0,\n",
       " 0.0,\n",
       " 0.0,\n",
       " 0.0,\n",
       " 0.0,\n",
       " 0.0,\n",
       " 0.0,\n",
       " 0.0,\n",
       " 0.0,\n",
       " 0.0,\n",
       " 0.0,\n",
       " 0.0,\n",
       " 0.0,\n",
       " 0.0,\n",
       " 0.0,\n",
       " 0.0,\n",
       " 0.0,\n",
       " 0.0,\n",
       " 0.0,\n",
       " 0.0,\n",
       " 0.004259546399116516,\n",
       " 0.015144298076629639,\n",
       " 0.0168451027944684,\n",
       " 0.02728602647781372,\n",
       " 0.060018177628517154,\n",
       " 0.0638841948658228,\n",
       " 0.06587924420833588,\n",
       " 0.17530280515551566,\n",
       " 0.1757882481813431,\n",
       " 0.2010645507648587,\n",
       " 0.20467903215438127,\n",
       " 0.23677289351820946,\n",
       " 0.26130021154880523,\n",
       " 0.3151033478230238,\n",
       " 0.35504409302026035,\n",
       " 0.38968290090560914,\n",
       " 0.41352076292037965,\n",
       " 0.6212381290271878,\n",
       " 0.7181372570991517,\n",
       " 0.8293264657631516,\n",
       " 0.8799974119663239,\n",
       " 0.8822415821254254,\n",
       " 0.9097301477566362,\n",
       " 1.0986779472604393,\n",
       " 1.1568915695697068,\n",
       " 1.6138467475771905,\n",
       " 1.6466261522471906,\n",
       " 1.6618254154920578,\n",
       " 1.7642245163396,\n",
       " 1.792588698081672,\n",
       " 1.977064038552344,\n",
       " 2.0519143083691596,\n",
       " 2.316019555069506,\n",
       " 2.4601440248265862,\n",
       " 2.578863516896963,\n",
       " 2.793535536713898,\n",
       " 3.0121396227180957,\n",
       " 3.0747007473558186,\n",
       " 3.1327821879833935,\n",
       " 3.6138282038643954,\n",
       " 3.8374613508954645,\n",
       " 4.218826887607574,\n",
       " 4.41277805313468,\n",
       " 4.931198675371706,\n",
       " 5.24256390094757,\n",
       " 5.318917512744665,\n",
       " 5.680893427580595,\n",
       " 6.277553348988294,\n",
       " 7.934974178671837,\n",
       " 8.073991714119911,\n",
       " 8.506163603067398,\n",
       " 11.132282013893127,\n",
       " 11.606872622966767,\n",
       " 12.692632813453674,\n",
       " 12.754784774780273,\n",
       " 13.23038468837738,\n",
       " 13.639141774177551,\n",
       " 13.791945028305054,\n",
       " 14.385549955368042,\n",
       " 14.864016942977905,\n",
       " 15.049797549247742,\n",
       " 16.4082039475441,\n",
       " 16.488176641464232,\n",
       " 16.566064329147338,\n",
       " 17.102133016586304,\n",
       " 17.997168827056885,\n",
       " 18.93510717391968,\n",
       " 19.163917045593262,\n",
       " 23.266690769195556,\n",
       " 25.069863119125365,\n",
       " 26.04596715927124,\n",
       " 26.090499229431153,\n",
       " 26.50272954940796,\n",
       " 26.5531600189209,\n",
       " 31.18717119216919,\n",
       " 31.754470500946045,\n",
       " 32.55641352653503,\n",
       " 37.0924467086792,\n",
       " 37.28607866287231,\n",
       " 38.95948474884033,\n",
       " 40.746674880981445]"
      ]
     },
     "execution_count": 406,
     "metadata": {},
     "output_type": "execute_result"
    }
   ],
   "source": [
    "printingFCME    "
   ]
  },
  {
   "cell_type": "code",
   "execution_count": 407,
   "metadata": {},
   "outputs": [
    {
     "data": {
      "image/png": "[encoded data removed]",
      "text/plain": [
       "<matplotlib.figure.Figure at 0x1c2b35ba20>"
      ]
     },
     "metadata": {},
     "output_type": "display_data"
    }
   ],
   "source": [
    "\n",
    "plotME(printingFCME)"
   ]
  },
  {
   "cell_type": "code",
   "execution_count": 110,
   "metadata": {},
   "outputs": [
    {
     "data": {
      "image/png": "[encoded data removed]",
      "text/plain": [
       "<matplotlib.figure.Figure at 0x1c2a840898>"
      ]
     },
     "metadata": {},
     "output_type": "display_data"
    }
   ],
   "source": [
    "plotME(MEConvMatBorder[0])"
   ]
  },
  {
   "cell_type": "code",
   "execution_count": 114,
   "metadata": {},
   "outputs": [
    {
     "data": {
      "image/png": "[encoded data removed]",
      "text/plain": [
       "<matplotlib.figure.Figure at 0x1c28a1db70>"
      ]
     },
     "metadata": {},
     "output_type": "display_data"
    }
   ],
   "source": [
    "plotME(MEConvMatTruncate[0])"
   ]
  },
  {
   "cell_type": "code",
   "execution_count": 112,
   "metadata": {},
   "outputs": [
    {
     "data": {
      "image/png": "[encoded data removed]",
      "text/plain": [
       "<matplotlib.figure.Figure at 0x1c2ae26d68>"
      ]
     },
     "metadata": {},
     "output_type": "display_data"
    }
   ],
   "source": [
    "plotME(MEConvMatRTZ[0])"
   ]
  },
  {
   "cell_type": "code",
   "execution_count": 105,
   "metadata": {},
   "outputs": [],
   "source": [
    "MEConvMatCBA = []+ MEFullyConnectedMat  #ME values for CBA"
   ]
  },
  {
   "cell_type": "code",
   "execution_count": 103,
   "metadata": {},
   "outputs": [],
   "source": [
    "MEConvMatBorder = []+ MEFullyConnectedMat #ME values for Border"
   ]
  },
  {
   "cell_type": "code",
   "execution_count": 108,
   "metadata": {},
   "outputs": [],
   "source": [
    "MEConvMatTruncate = []+ MEFullyConnectedMat #ME values for Truncate"
   ]
  },
  {
   "cell_type": "code",
   "execution_count": 109,
   "metadata": {},
   "outputs": [],
   "source": [
    "MEConvMatRTZ = []+ MEFullyConnectedMat #ME values for Truncate"
   ]
  },
  {
   "cell_type": "markdown",
   "metadata": {},
   "source": [
    "### Filter Policy implementation"
   ]
  },
  {
   "cell_type": "code",
   "execution_count": 1879,
   "metadata": {},
   "outputs": [],
   "source": [
    "wConvNew = [] + wConv"
   ]
  },
  {
   "cell_type": "code",
   "execution_count": 1880,
   "metadata": {},
   "outputs": [],
   "source": [
    "newApproxFilters(MEConv1,wConvNew[0],wOrigConv[0])\n",
    "newApproxFilters(MEConv2,wConvNew[1],wOrigConv[1])"
   ]
  },
  {
   "cell_type": "code",
   "execution_count": 1881,
   "metadata": {
    "scrolled": true
   },
   "outputs": [
    {
     "data": {
      "text/plain": [
       "array([[[[-7.22502470e-02, -8.54025930e-02, -5.67634664e-02, ...,\n",
       "           1.13209002e-02,  6.58966973e-02, -5.09390980e-02],\n",
       "         [ 6.48007076e-03, -1.60712674e-01,  5.29732257e-02, ...,\n",
       "          -2.22645625e-02,  5.61908074e-02,  6.81643141e-03],\n",
       "         [-1.88300423e-02, -7.24530667e-02, -9.99968406e-03, ...,\n",
       "           6.65483903e-03, -9.91740078e-02,  5.83594292e-03],\n",
       "         ...,\n",
       "         [-2.16737855e-03, -1.02020204e-01, -3.44595239e-02, ...,\n",
       "          -5.48427291e-02, -8.13767910e-02,  1.54643003e-02],\n",
       "         [ 2.35899407e-02,  7.15826452e-02,  1.09239839e-01, ...,\n",
       "           2.35728137e-02, -4.19724993e-02,  6.47225380e-02],\n",
       "         [ 2.63396297e-02, -3.58831473e-02, -8.56846273e-02, ...,\n",
       "          -1.42729841e-02, -1.21526688e-01, -3.60779390e-02]],\n",
       "\n",
       "        [[-7.22502470e-02, -7.81243667e-02, -1.71203375e-01, ...,\n",
       "           1.13209002e-02, -4.29685079e-02, -5.09390980e-02],\n",
       "         [ 6.48007076e-03, -1.55795127e-01, -7.00292811e-02, ...,\n",
       "          -2.22645625e-02,  8.15743357e-02,  6.81643141e-03],\n",
       "         [-1.88300423e-02, -6.49063895e-03, -3.79852019e-02, ...,\n",
       "           6.65483903e-03, -7.18497187e-02,  5.83594292e-03],\n",
       "         ...,\n",
       "         [-2.16737855e-03,  1.46444552e-02, -9.81954932e-02, ...,\n",
       "          -5.48427291e-02, -6.55055046e-02,  1.54643003e-02],\n",
       "         [ 2.35899407e-02,  7.95482099e-02, -2.07196027e-02, ...,\n",
       "           2.35728137e-02,  3.50184478e-02,  6.47225380e-02],\n",
       "         [ 2.63396297e-02, -5.01989312e-02,  4.23559435e-02, ...,\n",
       "          -1.42729841e-02, -4.27702032e-02, -3.60779390e-02]],\n",
       "\n",
       "        [[ 5.53989224e-03, -2.54138336e-02, -4.81989831e-02, ...,\n",
       "          -6.76352605e-02, -1.10866986e-01,  1.62168387e-02],\n",
       "         [-5.24555258e-02, -9.83468667e-02, -8.06850642e-02, ...,\n",
       "          -6.16360316e-03, -3.05403844e-02, -2.21755691e-02],\n",
       "         [-2.10230285e-03,  3.60027626e-02, -1.55820083e-02, ...,\n",
       "           2.11916696e-02, -6.20207265e-02, -4.93900059e-03],\n",
       "         ...,\n",
       "         [-6.43299446e-02, -1.05466060e-02, -9.26983058e-02, ...,\n",
       "          -3.82981729e-04,  3.91447684e-03,  5.09925745e-03],\n",
       "         [-7.00593144e-02, -1.19929679e-01,  2.98544522e-02, ...,\n",
       "           5.10760099e-02,  1.33529469e-01, -4.88193296e-02],\n",
       "         [-4.86070067e-02, -2.06202129e-03,  4.63056117e-02, ...,\n",
       "           7.03138439e-03,  1.06707625e-01,  2.50577144e-02]],\n",
       "\n",
       "        [[ 5.53989224e-03,  6.76684901e-02,  2.88636889e-02, ...,\n",
       "          -6.76352605e-02, -2.78350767e-02,  1.62168387e-02],\n",
       "         [-5.24555258e-02, -1.17798448e-01,  4.32410603e-03, ...,\n",
       "          -6.16360316e-03, -1.67735726e-01, -2.21755691e-02],\n",
       "         [-2.10230285e-03, -3.42332497e-02,  5.36311492e-02, ...,\n",
       "           2.11916696e-02, -1.65885072e-02, -4.93900059e-03],\n",
       "         ...,\n",
       "         [-6.43299446e-02, -1.59864664e-01, -8.67979787e-03, ...,\n",
       "          -3.82981729e-04, -6.88747242e-02,  5.09925745e-03],\n",
       "         [-7.00593144e-02,  6.60540760e-02, -7.46567920e-02, ...,\n",
       "           5.10760099e-02,  1.27343473e-03, -4.88193296e-02],\n",
       "         [-4.86070067e-02, -5.11508062e-02,  4.22821492e-02, ...,\n",
       "           7.03138439e-03,  1.66636437e-01,  2.50577144e-02]],\n",
       "\n",
       "        [[-5.20614092e-04,  3.64226177e-02, -4.88508381e-02, ...,\n",
       "           4.73602954e-03, -2.57314444e-02,  2.35476047e-02],\n",
       "         [-1.07915197e-02,  3.32908332e-02,  3.11157331e-02, ...,\n",
       "           2.78540701e-03,  4.33674827e-02,  1.33516197e-03],\n",
       "         [-3.35558737e-03,  5.37380576e-02,  2.79014539e-02, ...,\n",
       "           1.98620930e-02,  3.79956067e-02, -4.31422610e-03],\n",
       "         ...,\n",
       "         [-1.93689438e-03, -8.97528455e-02,  7.26032257e-02, ...,\n",
       "           7.25065731e-03, -4.66348715e-02,  1.13805709e-02],\n",
       "         [-4.60272795e-03, -4.31671329e-02, -6.06399626e-02, ...,\n",
       "           7.23205227e-03, -4.35707606e-02, -1.88973024e-02],\n",
       "         [-1.56937912e-02, -8.51803422e-02, -7.79088587e-02, ...,\n",
       "           7.41832051e-03, -3.00081875e-02, -2.18061563e-02]]],\n",
       "\n",
       "\n",
       "       [[[-7.22502470e-02, -8.36907774e-02, -1.39156073e-01, ...,\n",
       "           1.13209002e-02, -6.06383011e-02, -5.09390980e-02],\n",
       "         [ 6.48007076e-03, -2.20120922e-02, -3.64649221e-02, ...,\n",
       "          -2.22645625e-02,  4.68372665e-02,  6.81643141e-03],\n",
       "         [-1.88300423e-02,  6.94074407e-02, -9.49942693e-02, ...,\n",
       "           6.65483903e-03,  3.92736383e-02,  5.83594292e-03],\n",
       "         ...,\n",
       "         [-2.16737855e-03, -4.71719392e-02, -4.99170907e-02, ...,\n",
       "          -5.48427291e-02,  1.19659072e-02,  1.54643003e-02],\n",
       "         [ 2.35899407e-02, -6.84317434e-03,  9.26920921e-02, ...,\n",
       "           2.35728137e-02,  1.10604323e-01,  6.47225380e-02],\n",
       "         [ 2.63396297e-02, -6.68755993e-02,  8.69670734e-02, ...,\n",
       "          -1.42729841e-02, -6.97723702e-02, -3.60779390e-02]],\n",
       "\n",
       "        [[-7.22502470e-02, -4.77810428e-02, -8.80377442e-02, ...,\n",
       "           1.13209002e-02, -1.45540684e-01, -5.09390980e-02],\n",
       "         [ 6.48007076e-03, -1.91606097e-02, -1.64688826e-01, ...,\n",
       "          -2.22645625e-02, -1.62825622e-02,  6.81643141e-03],\n",
       "         [-1.88300423e-02,  1.10039257e-01,  3.72311994e-02, ...,\n",
       "           6.65483903e-03, -3.77357937e-02,  5.83594292e-03],\n",
       "         ...,\n",
       "         [-2.16737855e-03, -4.11447510e-02, -1.21409915e-01, ...,\n",
       "          -5.48427291e-02,  5.77320158e-02,  1.54643003e-02],\n",
       "         [ 2.35899407e-02,  2.34175194e-02,  2.33336668e-02, ...,\n",
       "           2.35728137e-02,  5.05075566e-02,  6.47225380e-02],\n",
       "         [ 2.63396297e-02,  4.54178415e-02,  3.56305651e-02, ...,\n",
       "          -1.42729841e-02,  9.11806524e-02, -3.60779390e-02]],\n",
       "\n",
       "        [[ 5.53989224e-03, -6.13096915e-02,  5.91242798e-02, ...,\n",
       "          -6.76352605e-02, -1.03616320e-01,  1.62168387e-02],\n",
       "         [-5.24555258e-02, -1.84313096e-02, -2.86488142e-02, ...,\n",
       "          -6.16360316e-03, -1.45620741e-02, -2.21755691e-02],\n",
       "         [-2.10230285e-03,  7.89154172e-02,  1.24947675e-01, ...,\n",
       "           2.11916696e-02, -3.16506177e-02, -4.93900059e-03],\n",
       "         ...,\n",
       "         [-6.43299446e-02, -1.11504003e-01, -3.61949243e-02, ...,\n",
       "          -3.82981729e-04, -4.49774861e-02,  5.09925745e-03],\n",
       "         [-7.00593144e-02,  4.17505056e-02, -6.76653115e-03, ...,\n",
       "           5.10760099e-02,  1.41172213e-02, -4.88193296e-02],\n",
       "         [-4.86070067e-02, -3.52633074e-02, -6.15166128e-02, ...,\n",
       "           7.03138439e-03,  1.09175175e-01,  2.50577144e-02]],\n",
       "\n",
       "        [[ 5.53989224e-03,  1.27008057e-03, -6.07532151e-02, ...,\n",
       "          -6.76352605e-02,  3.99377644e-02,  1.62168387e-02],\n",
       "         [-5.24555258e-02, -1.13296799e-01, -4.96202335e-02, ...,\n",
       "          -6.16360316e-03, -4.19564210e-02, -2.21755691e-02],\n",
       "         [-2.10230285e-03,  1.79943070e-01,  7.33182952e-03, ...,\n",
       "           2.11916696e-02,  2.29635704e-02, -4.93900059e-03],\n",
       "         ...,\n",
       "         [-6.43299446e-02, -1.38500661e-01, -1.03328206e-01, ...,\n",
       "          -3.82981729e-04, -4.66692913e-03,  5.09925745e-03],\n",
       "         [-7.00593144e-02,  1.06817804e-01, -7.38099366e-02, ...,\n",
       "           5.10760099e-02, -7.00516328e-02, -4.88193296e-02],\n",
       "         [-4.86070067e-02, -4.04213853e-02,  7.00542554e-02, ...,\n",
       "           7.03138439e-03,  9.18658357e-03,  2.50577144e-02]],\n",
       "\n",
       "        [[-5.20614092e-04, -5.50618432e-02,  1.39424741e-01, ...,\n",
       "           4.73602954e-03,  7.33505636e-02,  2.35476047e-02],\n",
       "         [-1.07915197e-02, -1.32361561e-01, -2.54845563e-02, ...,\n",
       "           2.78540701e-03, -2.49501830e-03,  1.33516197e-03],\n",
       "         [-3.35558737e-03,  1.00442000e-01,  1.32476343e-02, ...,\n",
       "           1.98620930e-02, -1.66429614e-03, -4.31422610e-03],\n",
       "         ...,\n",
       "         [-1.93689438e-03,  3.15215439e-02,  6.14969432e-02, ...,\n",
       "           7.25065731e-03, -4.60471818e-03,  1.13805709e-02],\n",
       "         [-4.60272795e-03,  1.27061486e-01, -5.09018898e-02, ...,\n",
       "           7.23205227e-03,  2.11148392e-02, -1.88973024e-02],\n",
       "         [-1.56937912e-02,  5.68737723e-02, -3.14246630e-03, ...,\n",
       "           7.41832051e-03,  1.40577666e-02, -2.18061563e-02]]],\n",
       "\n",
       "\n",
       "       [[[-3.56103666e-02, -4.12198305e-02, -1.62739366e-01, ...,\n",
       "          -1.27605990e-01, -1.52848691e-01, -1.52745079e-02],\n",
       "         [-2.84767672e-02, -1.29335877e-02,  8.73154849e-02, ...,\n",
       "           2.73118485e-02,  3.38043533e-02,  2.85004992e-02],\n",
       "         [-3.19015235e-03,  5.72072193e-02, -2.67108437e-04, ...,\n",
       "          -9.56713110e-02, -5.27803525e-02, -3.70156467e-02],\n",
       "         ...,\n",
       "         [ 3.40844058e-02,  1.03194356e-01,  5.43947034e-02, ...,\n",
       "           3.57585736e-02,  3.03935800e-02,  2.48059761e-02],\n",
       "         [-1.50279738e-02,  6.84635639e-02,  4.30228300e-02, ...,\n",
       "           5.38719073e-02,  1.01175785e-01, -3.67090553e-02],\n",
       "         [ 5.17738126e-02,  3.23610641e-02, -4.09529656e-02, ...,\n",
       "          -2.29362715e-02,  1.41941095e-02,  7.95810018e-03]],\n",
       "\n",
       "        [[-3.56103666e-02,  8.54678731e-03, -2.41888780e-02, ...,\n",
       "          -1.27605990e-01, -1.45062968e-01, -1.52745079e-02],\n",
       "         [-2.84767672e-02,  6.46542460e-02, -6.38999119e-02, ...,\n",
       "           2.73118485e-02, -2.59544868e-02,  2.85004992e-02],\n",
       "         [-3.19015235e-03, -3.61121520e-02,  1.17003219e-03, ...,\n",
       "          -9.56713110e-02, -6.86210394e-02, -3.70156467e-02],\n",
       "         ...,\n",
       "         [ 3.40844058e-02,  5.01076356e-02, -7.38981664e-02, ...,\n",
       "           3.57585736e-02, -1.57484896e-02,  2.48059761e-02],\n",
       "         [-1.50279738e-02, -4.38478589e-02,  2.35704444e-02, ...,\n",
       "           5.38719073e-02,  5.70259281e-02, -3.67090553e-02],\n",
       "         [ 5.17738126e-02,  5.16926050e-02,  8.36948827e-02, ...,\n",
       "          -2.29362715e-02,  9.00240913e-02,  7.95810018e-03]],\n",
       "\n",
       "        [[-1.08363954e-02,  6.77916184e-02, -1.03136059e-02, ...,\n",
       "          -1.06022090e-01, -7.85900205e-02,  3.55246919e-03],\n",
       "         [-3.44157070e-02,  1.24566287e-01, -6.83898851e-02, ...,\n",
       "          -2.94950604e-02, -3.70080508e-02,  1.67262387e-02],\n",
       "         [ 1.18471188e-02,  6.95653483e-02, -1.79317053e-02, ...,\n",
       "           2.39585694e-02,  3.13827842e-02, -1.42247546e-02],\n",
       "         ...,\n",
       "         [-3.87918539e-02,  6.75654188e-02,  6.99389959e-03, ...,\n",
       "          -1.38399089e-02,  2.23770039e-03,  6.20921003e-03],\n",
       "         [-7.90398195e-03,  3.39724980e-02,  1.01318188e-01, ...,\n",
       "          -3.98009792e-02, -9.90066230e-02,  4.38062334e-03],\n",
       "         [ 9.02830157e-04,  8.04885253e-02, -1.47674168e-02, ...,\n",
       "           4.75866124e-02,  2.20567249e-02,  1.27314217e-02]],\n",
       "\n",
       "        [[-1.08363954e-02,  1.07766297e-02,  9.59333777e-02, ...,\n",
       "          -1.06022090e-01,  1.04069471e-01,  3.55246919e-03],\n",
       "         [-3.44157070e-02,  1.43916592e-01, -1.35031089e-01, ...,\n",
       "          -2.94950604e-02,  1.55761009e-02,  1.67262387e-02],\n",
       "         [ 1.18471188e-02, -3.42208333e-02,  1.67594198e-02, ...,\n",
       "           2.39585694e-02, -3.86032984e-02, -1.42247546e-02],\n",
       "         ...,\n",
       "         [-3.87918539e-02,  7.00912178e-02, -4.95852567e-02, ...,\n",
       "          -1.38399089e-02, -4.68508825e-02,  6.20921003e-03],\n",
       "         [-7.90398195e-03, -3.56423706e-02, -7.52561819e-03, ...,\n",
       "          -3.98009792e-02, -9.99154896e-02,  4.38062334e-03],\n",
       "         [ 9.02830157e-04,  7.00419322e-02, -1.50147006e-02, ...,\n",
       "           4.75866124e-02, -7.69760385e-02,  1.27314217e-02]],\n",
       "\n",
       "        [[ 1.75163839e-02, -2.51129735e-04,  1.26257271e-01, ...,\n",
       "           1.81034785e-02, -7.28752511e-03,  5.24382060e-03],\n",
       "         [ 4.64374758e-03,  6.05442636e-02, -2.62095165e-02, ...,\n",
       "          -6.31595030e-03,  9.02137067e-03,  1.06840627e-02],\n",
       "         [ 1.45736644e-02, -1.07551172e-01,  8.71211588e-02, ...,\n",
       "           5.10500604e-03,  2.63444111e-02,  1.06548639e-02],\n",
       "         ...,\n",
       "         [ 2.89818435e-03,  5.23647815e-02, -4.62304652e-02, ...,\n",
       "          -5.76734543e-03,  2.99138017e-02,  2.21888758e-02],\n",
       "         [ 3.74138495e-03,  1.26989082e-01, -3.50388279e-03, ...,\n",
       "          -1.60572138e-02,  5.72162382e-02,  3.98074975e-03],\n",
       "         [ 3.97936907e-03,  1.27382860e-01, -8.56708884e-02, ...,\n",
       "          -4.12250031e-03, -6.69950992e-02,  3.76608735e-03]]],\n",
       "\n",
       "\n",
       "       [[[-3.56103666e-02,  6.21038191e-02, -9.87217426e-02, ...,\n",
       "          -1.27605990e-01, -1.29704356e-01, -1.52745079e-02],\n",
       "         [-2.84767672e-02,  6.09770827e-02,  1.28370374e-01, ...,\n",
       "           2.73118485e-02,  6.38091564e-02,  2.85004992e-02],\n",
       "         [-3.19015235e-03,  7.90376868e-03, -1.08071491e-01, ...,\n",
       "          -9.56713110e-02, -4.45682593e-02, -3.70156467e-02],\n",
       "         ...,\n",
       "         [ 3.40844058e-02, -3.90013354e-03, -1.52220862e-04, ...,\n",
       "           3.57585736e-02,  8.91198814e-02,  2.48059761e-02],\n",
       "         [-1.50279738e-02, -6.03077747e-02,  2.61293128e-02, ...,\n",
       "           5.38719073e-02,  7.91507661e-02, -3.67090553e-02],\n",
       "         [ 5.17738126e-02,  1.10532075e-01,  1.01209320e-01, ...,\n",
       "          -2.29362715e-02, -3.05540711e-02,  7.95810018e-03]],\n",
       "\n",
       "        [[-3.56103666e-02,  1.33046672e-01, -2.56527755e-02, ...,\n",
       "          -1.27605990e-01, -7.73568004e-02, -1.52745079e-02],\n",
       "         [-2.84767672e-02,  1.09643519e-01, -7.93133751e-02, ...,\n",
       "           2.73118485e-02, -1.07919618e-01,  2.85004992e-02],\n",
       "         [-3.19015235e-03, -4.06033695e-02,  7.88016841e-02, ...,\n",
       "          -9.56713110e-02, -1.84095162e-03, -3.70156467e-02],\n",
       "         ...,\n",
       "         [ 3.40844058e-02,  1.07681960e-01,  2.90796980e-02, ...,\n",
       "           3.57585736e-02, -1.41613893e-02,  2.48059761e-02],\n",
       "         [-1.50279738e-02, -3.64439152e-02, -5.70936650e-02, ...,\n",
       "           5.38719073e-02, -3.39774452e-02, -3.67090553e-02],\n",
       "         [ 5.17738126e-02,  4.97713080e-03,  2.27843113e-02, ...,\n",
       "          -2.29362715e-02,  1.04269266e-01,  7.95810018e-03]],\n",
       "\n",
       "        [[-1.08363954e-02,  9.35610235e-02, -1.45732323e-02, ...,\n",
       "          -1.06022090e-01,  2.58491803e-02,  3.55246919e-03],\n",
       "         [-3.44157070e-02,  1.78384334e-01,  2.46895533e-02, ...,\n",
       "          -2.94950604e-02, -8.66990909e-02,  1.67262387e-02],\n",
       "         [ 1.18471188e-02, -1.41430661e-01, -2.66578812e-02, ...,\n",
       "           2.39585694e-02,  4.55396138e-02, -1.42247546e-02],\n",
       "         ...,\n",
       "         [-3.87918539e-02,  1.27306148e-01,  4.64429334e-02, ...,\n",
       "          -1.38399089e-02, -1.52559094e-02,  6.20921003e-03],\n",
       "         [-7.90398195e-03, -9.72241312e-02,  3.74056399e-02, ...,\n",
       "          -3.98009792e-02, -1.53634876e-01,  4.38062334e-03],\n",
       "         [ 9.02830157e-04,  8.83785635e-02, -3.03777773e-03, ...,\n",
       "           4.75866124e-02,  3.45889777e-02,  1.27314217e-02]],\n",
       "\n",
       "        [[-1.08363954e-02,  6.73258454e-02,  6.60641938e-02, ...,\n",
       "          -1.06022090e-01,  4.71006967e-02,  3.55246919e-03],\n",
       "         [-3.44157070e-02,  2.38986798e-02, -7.07418937e-03, ...,\n",
       "          -2.94950604e-02,  3.31218913e-02,  1.67262387e-02],\n",
       "         [ 1.18471188e-02, -1.36112556e-01,  5.46923801e-02, ...,\n",
       "           2.39585694e-02,  6.47018850e-02, -1.42247546e-02],\n",
       "         ...,\n",
       "         [-3.87918539e-02,  1.24296345e-01, -3.43573801e-02, ...,\n",
       "          -1.38399089e-02, -1.09192610e-01,  6.20921003e-03],\n",
       "         [-7.90398195e-03, -1.43775821e-01,  8.21156800e-02, ...,\n",
       "          -3.98009792e-02,  5.58673441e-02,  4.38062334e-03],\n",
       "         [ 9.02830157e-04,  8.52702633e-02, -4.60143499e-02, ...,\n",
       "           4.75866124e-02, -1.10859089e-01,  1.27314217e-02]],\n",
       "\n",
       "        [[ 1.75163839e-02,  6.27875552e-02, -1.82859581e-02, ...,\n",
       "           1.81034785e-02,  5.57474643e-02,  5.24382060e-03],\n",
       "         [ 4.64374758e-03,  8.05812255e-02, -1.35950878e-01, ...,\n",
       "          -6.31595030e-03, -6.81166500e-02,  1.06840627e-02],\n",
       "         [ 1.45736644e-02, -9.12299529e-02,  1.29474983e-01, ...,\n",
       "           5.10500604e-03,  9.82463546e-03,  1.06548639e-02],\n",
       "         ...,\n",
       "         [ 2.89818435e-03,  1.40494127e-02, -5.36792278e-02, ...,\n",
       "          -5.76734543e-03, -1.91223947e-03,  2.21888758e-02],\n",
       "         [ 3.74138495e-03,  1.67643558e-02,  1.29823294e-02, ...,\n",
       "          -1.60572138e-02,  8.30946043e-02,  3.98074975e-03],\n",
       "         [ 3.97936907e-03,  3.54032498e-03, -6.42222986e-02, ...,\n",
       "          -4.12250031e-03, -8.96687433e-02,  3.76608735e-03]]],\n",
       "\n",
       "\n",
       "       [[[-1.08603127e-02,  4.48925681e-02, -9.91964415e-02, ...,\n",
       "          -6.64261058e-02, -9.77582857e-02, -1.07635302e-03],\n",
       "         [ 4.89656953e-03, -4.81077805e-02, -5.16916253e-03, ...,\n",
       "          -1.99042819e-02, -1.17360465e-02, -6.17428264e-03],\n",
       "         [ 1.47125870e-03,  9.82098356e-02, -1.06152907e-01, ...,\n",
       "          -3.72059643e-02, -6.03732280e-02,  2.22694017e-02],\n",
       "         ...,\n",
       "         [ 1.98995937e-02, -5.65265678e-02,  4.12762873e-02, ...,\n",
       "          -3.52215488e-03,  7.69497827e-02, -1.73714955e-03],\n",
       "         [-1.03462934e-02, -6.49787718e-03, -1.43274921e-03, ...,\n",
       "          -3.61711322e-03,  4.35680747e-02, -1.26659181e-02],\n",
       "         [ 1.22666452e-02,  1.47833386e-02,  2.97678802e-02, ...,\n",
       "           7.02755235e-04,  2.72575766e-02, -2.80198976e-02]],\n",
       "\n",
       "        [[-1.08603127e-02,  1.03527471e-01, -1.86558571e-02, ...,\n",
       "          -6.64261058e-02, -1.04883589e-01, -1.07635302e-03],\n",
       "         [ 4.89656953e-03, -1.91509202e-02,  1.60201583e-02, ...,\n",
       "          -1.99042819e-02, -7.14472979e-02, -6.17428264e-03],\n",
       "         [ 1.47125870e-03,  5.19964052e-03,  9.63169858e-02, ...,\n",
       "          -3.72059643e-02,  5.95563017e-02,  2.22694017e-02],\n",
       "         ...,\n",
       "         [ 1.98995937e-02, -6.28470033e-02, -7.74317188e-03, ...,\n",
       "          -3.52215488e-03, -6.23124512e-03, -1.73714955e-03],\n",
       "         [-1.03462934e-02, -9.74819958e-02,  1.68895330e-02, ...,\n",
       "          -3.61711322e-03,  7.79222846e-02, -1.26659181e-02],\n",
       "         [ 1.22666452e-02,  1.03248423e-02, -3.55689004e-02, ...,\n",
       "           7.02755235e-04,  6.31005690e-02, -2.80198976e-02]],\n",
       "\n",
       "        [[ 2.09088083e-02,  1.35874465e-01, -1.39773842e-02, ...,\n",
       "          -7.57176196e-03,  5.11475205e-02, -2.80976738e-03],\n",
       "         [ 1.85996504e-03, -4.03519645e-02,  1.45639107e-01, ...,\n",
       "          -1.21179409e-02, -1.19032159e-01, -1.24201840e-02],\n",
       "         [-1.23312091e-02,  9.77757275e-02, -2.51501109e-02, ...,\n",
       "           3.09699140e-02,  1.59808159e-01, -1.73076764e-02],\n",
       "         ...,\n",
       "         [-1.10390002e-03, -1.39065236e-01,  6.25724643e-02, ...,\n",
       "          -7.37075554e-03, -1.35969177e-01,  2.31015217e-02],\n",
       "         [ 2.01163231e-03,  2.07762420e-02, -2.33625248e-02, ...,\n",
       "          -1.63986720e-02, -9.73648056e-02,  2.75903381e-03],\n",
       "         [ 4.58151149e-03, -1.67502761e-02, -1.75623633e-02, ...,\n",
       "           1.56140924e-02,  1.88334547e-02,  1.61123350e-02]],\n",
       "\n",
       "        [[ 2.09088083e-02,  4.93532605e-02, -7.26789162e-02, ...,\n",
       "          -7.57176196e-03,  6.05435707e-02, -2.80976738e-03],\n",
       "         [ 1.85996504e-03,  3.07398429e-03,  1.17375612e-01, ...,\n",
       "          -1.21179409e-02, -2.44493829e-03, -1.24201840e-02],\n",
       "         [-1.23312091e-02,  2.65197679e-02, -1.49039067e-02, ...,\n",
       "           3.09699140e-02,  7.76358247e-02, -1.73076764e-02],\n",
       "         ...,\n",
       "         [-1.10390002e-03, -1.69738114e-01,  7.91259930e-02, ...,\n",
       "          -7.37075554e-03, -6.15757667e-02,  2.31015217e-02],\n",
       "         [ 2.01163231e-03, -5.81317954e-02,  7.36701861e-02, ...,\n",
       "          -1.63986720e-02, -3.23571227e-02,  2.75903381e-03],\n",
       "         [ 4.58151149e-03, -1.31019846e-01, -1.46126635e-02, ...,\n",
       "           1.56140924e-02, -6.21160604e-02,  1.61123350e-02]],\n",
       "\n",
       "        [[ 5.00902592e-04,  3.24208550e-02,  6.06598966e-02, ...,\n",
       "           6.14451012e-03,  8.93904418e-02, -9.73368250e-03],\n",
       "         [-8.44890950e-04, -1.91112086e-02,  2.55820043e-02, ...,\n",
       "           4.48534125e-03,  1.17917441e-01,  9.74301528e-03],\n",
       "         [-1.29995225e-02, -4.77404930e-02,  7.73649588e-02, ...,\n",
       "          -4.79016267e-03,  2.94122919e-02, -3.03413207e-03],\n",
       "         ...,\n",
       "         [ 1.98921748e-03, -4.56755795e-03,  9.46845934e-02, ...,\n",
       "          -5.18955663e-03,  4.26162686e-03,  6.94166077e-03],\n",
       "         [-3.38940136e-03, -5.97252324e-03,  3.82930525e-02, ...,\n",
       "          -5.57282800e-03,  1.09215789e-02, -1.59237278e-03],\n",
       "         [ 3.18673463e-03, -4.50932607e-02, -4.15988788e-02, ...,\n",
       "          -3.85265891e-03, -7.57662654e-02,  3.28917592e-03]]]],\n",
       "      dtype=float32)"
      ]
     },
     "execution_count": 1881,
     "metadata": {},
     "output_type": "execute_result"
    }
   ],
   "source": [
    "assign_op = weightsConvMat[0].assign(wConvNew[0])\n",
    "session.run(assign_op)\n",
    "\n",
    "assign_op = weightsConvMat[1].assign(wConvNew[1])\n",
    "session.run(assign_op)"
   ]
  },
  {
   "cell_type": "code",
   "execution_count": 1882,
   "metadata": {},
   "outputs": [],
   "source": [
    "wConvNewCBA = [] + wConvNew #New filter values for CBA"
   ]
  },
  {
   "cell_type": "code",
   "execution_count": 1760,
   "metadata": {},
   "outputs": [],
   "source": [
    "wConvNewBorder = [] + wConvNew #New filter values for Border"
   ]
  },
  {
   "cell_type": "code",
   "execution_count": 1783,
   "metadata": {},
   "outputs": [],
   "source": [
    "wConvNewTruncate = [] + wConvNew #New filter values for Border"
   ]
  },
  {
   "cell_type": "code",
   "execution_count": 1807,
   "metadata": {},
   "outputs": [],
   "source": [
    "wConvNewRTZ = [] + wConvNew #New filter values for Border"
   ]
  },
  {
   "cell_type": "code",
   "execution_count": 1817,
   "metadata": {},
   "outputs": [],
   "source": [
    "wConvArr1 = [wConvNewCBA[0], wConvNewBorder[0], wConvNewTruncate[0],wConvNewRTZ[0]]"
   ]
  },
  {
   "cell_type": "code",
   "execution_count": 1860,
   "metadata": {},
   "outputs": [],
   "source": [
    "wConvArr11 = [wConvNewCBA[0], wConvNewBorder[0]]"
   ]
  },
  {
   "cell_type": "code",
   "execution_count": 1831,
   "metadata": {},
   "outputs": [
    {
     "data": {
      "text/plain": [
       "4"
      ]
     },
     "execution_count": 1831,
     "metadata": {},
     "output_type": "execute_result"
    }
   ],
   "source": [
    "len(wConvArr1)"
   ]
  },
  {
   "cell_type": "code",
   "execution_count": 1818,
   "metadata": {},
   "outputs": [],
   "source": [
    "wConvArr2 = [wConvNewCBA[1], wConvNewBorder[1], wConvNewTruncate[1],wConvNewRTZ[1]]"
   ]
  },
  {
   "cell_type": "code",
   "execution_count": 1861,
   "metadata": {},
   "outputs": [],
   "source": [
    "wConvArr22 = [wConvNewCBA[1], wConvNewBorder[1]]"
   ]
  },
  {
   "cell_type": "markdown",
   "metadata": {},
   "source": [
    "## Checksum Calculation"
   ]
  },
  {
   "cell_type": "code",
   "execution_count": 1518,
   "metadata": {},
   "outputs": [
    {
     "data": {
      "text/plain": [
       "(5, 5, 16, 36)"
      ]
     },
     "execution_count": 1518,
     "metadata": {},
     "output_type": "execute_result"
    }
   ],
   "source": [
    "wOrigConv[1].shape\n"
   ]
  },
  {
   "cell_type": "code",
   "execution_count": 1866,
   "metadata": {},
   "outputs": [],
   "source": [
    "def calculateCheckSum(wtMat,wOrig):\n",
    "        shape = wtMat.shape\n",
    "        xlen = shape[0]\n",
    "        ylen = shape[1]\n",
    "        numChnls = shape[2]\n",
    "        numFilters = shape[3]\n",
    "        \n",
    "        means = np.zeros((xlen,ylen,numChnls))\n",
    "        meanAvg = np.zeros((xlen,ylen,numChnls))\n",
    "\n",
    "        for c in range(0,numChnls):\n",
    "            for i in range(0,numFilters):\n",
    "                means[:,:,c] += np.absolute(wtMat[:,:,c,i]-wOrig[:,:,c,i])\n",
    "                \n",
    "        meanAvg = np.float32( means/ numFilters) \n",
    "        return meanAvg\n",
    "                "
   ]
  },
  {
   "cell_type": "code",
   "execution_count": null,
   "metadata": {},
   "outputs": [],
   "source": [
    "def calculateWeightedCheckSum(wtMat,wOrig,MEConv):\n",
    "        shape = wtMat.shape\n",
    "        xlen = shape[0]\n",
    "        ylen = shape[1]\n",
    "        numChnls = shape[2]\n",
    "        numFilters = shape[3]\n",
    "        \n",
    "        means = np.zeros((xlen,ylen,numChnls))\n",
    "        meanAvg = np.zeros((xlen,ylen,numChnls))\n",
    "\n",
    "        for c in range(0,numChnls):\n",
    "            for i in range(0,numFilters):\n",
    "                means[:,:,c] += np.absolute(wtMat[:,:,c,i]-wOrig[:,:,c,i])*MEConv[i]\n",
    "                \n",
    "        meanAvg = np.float32( means/ numFilters) \n",
    "        return meanAvg"
   ]
  },
  {
   "cell_type": "code",
   "execution_count": 1883,
   "metadata": {},
   "outputs": [],
   "source": [
    "checkCBA_1 = calculateCheckSum(wConv[0],wOrigConv[0])"
   ]
  },
  {
   "cell_type": "code",
   "execution_count": 1884,
   "metadata": {},
   "outputs": [],
   "source": [
    "checkCBA_2 = calculateCheckSum(wConv[1],wOrigConv[1])"
   ]
  },
  {
   "cell_type": "code",
   "execution_count": 1910,
   "metadata": {},
   "outputs": [],
   "source": [
    "checkBorder_1 = calculateCheckSum(wConv[0],wOrigConv[0])"
   ]
  },
  {
   "cell_type": "code",
   "execution_count": 1816,
   "metadata": {},
   "outputs": [
    {
     "data": {
      "text/plain": [
       "array([[0.03055049],\n",
       "       [0.02580551],\n",
       "       [0.026248  ],\n",
       "       [0.01715355],\n",
       "       [0.00982924]], dtype=float32)"
      ]
     },
     "execution_count": 1816,
     "metadata": {},
     "output_type": "execute_result"
    }
   ],
   "source": [
    "checkRTZ_1[0]"
   ]
  },
  {
   "cell_type": "code",
   "execution_count": 1911,
   "metadata": {},
   "outputs": [],
   "source": [
    "checkBorder_2 = calculateCheckSum(wConv[1],wOrigConv[1])"
   ]
  },
  {
   "cell_type": "code",
   "execution_count": 1901,
   "metadata": {},
   "outputs": [],
   "source": [
    "checkTruncate_1 = calculateCheckSum(wConv[0],wOrigConv[0])"
   ]
  },
  {
   "cell_type": "code",
   "execution_count": 1902,
   "metadata": {},
   "outputs": [],
   "source": [
    "checkTruncate_2 = calculateCheckSum(wConv[1],wOrigConv[1])"
   ]
  },
  {
   "cell_type": "code",
   "execution_count": 1892,
   "metadata": {},
   "outputs": [],
   "source": [
    "checkRTZ_1 = calculateCheckSum(wConv[0],wOrigConv[0])"
   ]
  },
  {
   "cell_type": "code",
   "execution_count": 1893,
   "metadata": {},
   "outputs": [],
   "source": [
    "checkRTZ_2 = calculateCheckSum(wConv[1],wOrigConv[1])"
   ]
  },
  {
   "cell_type": "code",
   "execution_count": 1321,
   "metadata": {},
   "outputs": [],
   "source": [
    "img = np.reshape(image1[10],[img_size,img_size])\n",
    "kernel = meanAvgOrig - meanAvgConv1 \n",
    "result = ndimage.correlate(img,kernel,mode = 'constant',cval = 0.0)"
   ]
  },
  {
   "cell_type": "code",
   "execution_count": 1912,
   "metadata": {},
   "outputs": [],
   "source": [
    "checkConv1 = [checkCBA_1,checkBorder_1, checkTruncate_1, checkRTZ_1]"
   ]
  },
  {
   "cell_type": "code",
   "execution_count": 1913,
   "metadata": {},
   "outputs": [],
   "source": [
    "checkConv11 = [checkCBA_1,checkBorder_1]"
   ]
  },
  {
   "cell_type": "code",
   "execution_count": 1914,
   "metadata": {},
   "outputs": [],
   "source": [
    "checkConv2 = [checkCBA_2,checkBorder_2, checkTruncate_2, checkRTZ_2]"
   ]
  },
  {
   "cell_type": "code",
   "execution_count": 1915,
   "metadata": {},
   "outputs": [],
   "source": [
    "checkConv22 = [checkCBA_2,checkBorder_2]"
   ]
  },
  {
   "cell_type": "markdown",
   "metadata": {},
   "source": [
    "## Selecting Filter During Testing"
   ]
  },
  {
   "cell_type": "code",
   "execution_count": 1523,
   "metadata": {},
   "outputs": [
    {
     "ename": "TypeError",
     "evalue": "partial_run_setup() missing 1 required positional argument: 'fetches'",
     "output_type": "error",
     "traceback": [
      "\u001b[0;31m---------------------------------------------------------------------------\u001b[0m",
      "\u001b[0;31mTypeError\u001b[0m                                 Traceback (most recent call last)",
      "\u001b[0;32m<ipython-input-1523-d8ad49783475>\u001b[0m in \u001b[0;36m<module>\u001b[0;34m()\u001b[0m\n\u001b[1;32m      3\u001b[0m \u001b[0mfeed_dict_test\u001b[0m \u001b[0;34m=\u001b[0m \u001b[0;34m{\u001b[0m\u001b[0mx\u001b[0m\u001b[0;34m:\u001b[0m \u001b[0mimage1\u001b[0m\u001b[0;34m}\u001b[0m\u001b[0;34m\u001b[0m\u001b[0m\n\u001b[1;32m      4\u001b[0m \u001b[0;34m\u001b[0m\u001b[0m\n\u001b[0;32m----> 5\u001b[0;31m \u001b[0mh\u001b[0m \u001b[0;34m=\u001b[0m \u001b[0msession\u001b[0m\u001b[0;34m.\u001b[0m\u001b[0mpartial_run_setup\u001b[0m\u001b[0;34m(\u001b[0m\u001b[0;34m)\u001b[0m\u001b[0;34m\u001b[0m\u001b[0m\n\u001b[0m\u001b[1;32m      6\u001b[0m \u001b[0;34m\u001b[0m\u001b[0m\n\u001b[1;32m      7\u001b[0m \u001b[0mval_out\u001b[0m \u001b[0;34m=\u001b[0m \u001b[0msession\u001b[0m\u001b[0;34m.\u001b[0m\u001b[0mpartial_run\u001b[0m\u001b[0;34m(\u001b[0m\u001b[0mh\u001b[0m\u001b[0;34m,\u001b[0m\u001b[0mlayer_conv1\u001b[0m\u001b[0;34m,\u001b[0m \u001b[0mfeed_dict\u001b[0m\u001b[0;34m=\u001b[0m\u001b[0mfeed_dict_test\u001b[0m\u001b[0;34m)\u001b[0m\u001b[0;34m\u001b[0m\u001b[0m\n",
      "\u001b[0;31mTypeError\u001b[0m: partial_run_setup() missing 1 required positional argument: 'fetches'"
     ]
    }
   ],
   "source": [
    "imageTest = data.test.images[0]\n",
    "\n",
    "feed_dict_test = {x: imageTest}\n",
    "\n",
    "#Run throuh checksum list\n",
    "imgTest = np.reshape(imageTest,[img_size,img_size])\n",
    "\n",
    "kernel = meanAvgOrig - meanAvgConv1 \n",
    "\n",
    "result = ndimage.correlate(img,kernel,mode = 'constant',cval = 0.0)\n",
    "\n",
    "#minimum checksum\n",
    "checkSumOut = np.sum(result)\n",
    "\n",
    "#assign weigths\n",
    "assignFilters(wConv,wOrigFc)\n",
    "\n",
    "#Output of first layer\n",
    "val_out1 = session.run(layer_con1_pool_relu, feed_dict=feed_dict)\n",
    "\n",
    "#calculate chekcsum for second layer\n"
   ]
  },
  {
   "cell_type": "code",
   "execution_count": 1923,
   "metadata": {},
   "outputs": [
    {
     "data": {
      "image/png": "[encoded data removed]",
      "text/plain": [
       "<Figure size 432x288 with 1 Axes>"
      ]
     },
     "metadata": {},
     "output_type": "display_data"
    }
   ],
   "source": [
    "imageTest = data.train.images[1000:1010]\n",
    "xAxis = []\n",
    "yAxisCB = []\n",
    "yAxisR20 = []\n",
    "yAxisBA = []\n",
    "\n",
    "for i in range(0,len(imageTest)):\n",
    "    feed_dict_test = {x: [imageTest[i]]}\n",
    "    imgTest = np.reshape(imageTest[i],[img_size,img_size])\n",
    "    checkSumOut = []\n",
    "    for chckSum in checkConv1:\n",
    "        kernel = chckSum[:,:,0] \n",
    "\n",
    "        result = ndimage.correlate(imgTest,kernel,mode = 'constant',cval = 0.0)\n",
    "\n",
    "        #minimum checksum\n",
    "        checkSumOut.append(np.sum(result))\n",
    "    minSum = 1000000000\n",
    "    indx = -1\n",
    "    iterV = 0\n",
    "    for chckSumVal in checkSumOut:\n",
    "        if minSum > chckSumVal:\n",
    "            minSum = chckSumVal\n",
    "            indx = iterV\n",
    "        iterV += 1\n",
    "    #Assigning 20% filter LAYER 1\n",
    "    #print(\"layr1:\",indx,\"sumMin:\",checkSumOut)\n",
    "    xAxis.append(i)\n",
    "    yAxisCB.append(checkSumOut[0])\n",
    "    yAxisR20.append(checkSumOut[3])\n",
    "    yAxisBA.append(checkSumOut[1])\n",
    "    assign_op = weightsConvMat[0].assign(wConvArr1[indx])\n",
    "    session.run(assign_op)\n",
    "    \n",
    "    val_out1 = session.run(layer_conv1_pool_relu, feed_dict=feed_dict_test)\n",
    "    #print(val_out1.shape)\n",
    "    shapeT = val_out1.shape\n",
    "\n",
    "    #input_4d = tf.reshape(val_out1,[shapeT[0], shapeT[1], shapeT[2],1 ] )\n",
    "    layr2Sum = []\n",
    "    for chckSum in checkConv2:\n",
    "        input_4d = tf.expand_dims(chckSum,3)\n",
    "\n",
    "        checkSumOut2 = tf.nn.conv2d(input=np.float32(val_out1),\n",
    "                     filter=input_4d,\n",
    "                     strides=[1, 1, 1, 1],\n",
    "                     padding='SAME')\n",
    "        abc = session.run(checkSumOut2)\n",
    "        layr2Sum.append(np.sum(abc))\n",
    "    minSum = 1000000000\n",
    "    itr = 0\n",
    "    indx = -1\n",
    "    for chckSumVal in layr2Sum:\n",
    "        if minSum > chckSumVal:\n",
    "            minSum = chckSumVal\n",
    "            indx = itr\n",
    "        itr += 1\n",
    "    #print(\"layer2:\",indx,\"minSum:\",layr2Sum)\n",
    "    #print(\"\\n\")\n",
    "    assign_op = weightsConvMat[1].assign(wConvArr2[indx])\n",
    "    session.run(assign_op)\n",
    "    #print_test_accuracy()\n",
    "\n",
    "    \n",
    "plt.plot(xAxis,yAxisCB,color='red')\n",
    "plt.plot(xAxis,yAxisR20,color='green')\n",
    "plt.plot(xAxis,yAxisBA,color='blue')\n",
    "plt.show()\n"
   ]
  },
  {
   "cell_type": "code",
   "execution_count": 1858,
   "metadata": {},
   "outputs": [
    {
     "data": {
      "text/plain": [
       "array([[0.03055049, 0.02580551, 0.026248  , 0.01715355, 0.00982924],\n",
       "       [0.03019384, 0.0126938 , 0.0152295 , 0.01362522, 0.00863972],\n",
       "       [0.00870962, 0.00649926, 0.00229892, 0.00062708, 0.00069842],\n",
       "       [0.01514227, 0.01404957, 0.00802496, 0.0015972 , 0.00393755],\n",
       "       [0.02419218, 0.01969032, 0.01238732, 0.0070172 , 0.01028924]],\n",
       "      dtype=float32)"
      ]
     },
     "execution_count": 1858,
     "metadata": {},
     "output_type": "execute_result"
    }
   ],
   "source": [
    "checkConv11[][:,:,0] "
   ]
  },
  {
   "cell_type": "code",
   "execution_count": 1829,
   "metadata": {},
   "outputs": [
    {
     "name": "stdout",
     "output_type": "stream",
     "text": [
      "(28, 28)\n",
      "(5, 5)\n"
     ]
    }
   ],
   "source": [
    "imageTest = data.test.images[0:100]\n",
    "\n",
    "\n",
    "feed_dict_test = {x: [imageTest[0]]}\n",
    "imgTest = np.reshape(imageTest[0],[img_size,img_size])\n",
    "\n",
    "print(imgTest.shape)\n",
    "checkSumOut = []\n",
    "#for chckSum in checkConv1:\n",
    "kernel = checkConv1[0][:,:,0]\n",
    "print(kernel.shape)\n",
    "result = ndimage.correlate(imgTest,kernel,mode = 'constant',cval = 0.0)"
   ]
  },
  {
   "cell_type": "code",
   "execution_count": null,
   "metadata": {},
   "outputs": [],
   "source": [
    "def assignFilterSP(wConv):\n",
    "    assign_op = weightsConvMat[0].assign(wConv)\n",
    "    session.run(assign_op)"
   ]
  },
  {
   "cell_type": "code",
   "execution_count": 1675,
   "metadata": {},
   "outputs": [
    {
     "name": "stdout",
     "output_type": "stream",
     "text": [
      "59.422913\n"
     ]
    }
   ],
   "source": [
    "temp = session.run(checkSumOut2)\n",
    "print(np.sum(temp))"
   ]
  },
  {
   "cell_type": "markdown",
   "metadata": {},
   "source": [
    "## Visualization of Weights and Layers\n",
    "\n",
    "In trying to understand why the convolutional neural network can recognize handwritten digits, we will now visualize the weights of the convolutional filters and the resulting output images."
   ]
  },
  {
   "cell_type": "markdown",
   "metadata": {},
   "source": [
    "### Helper-function for plotting convolutional weights"
   ]
  },
  {
   "cell_type": "code",
   "execution_count": 1635,
   "metadata": {},
   "outputs": [],
   "source": [
    "def plot_conv_weights(weights, input_channel=0):\n",
    "    # Assume weights are TensorFlow ops for 4-dim variables\n",
    "    # e.g. weights_conv1 or weights_conv2.\n",
    "    \n",
    "    # Retrieve the values of the weight-variables from TensorFlow.\n",
    "    # A feed-dict is not necessary because nothing is calculated.\n",
    "    w = session.run(weights)\n",
    "\n",
    "    # Get the lowest and highest values for the weights.\n",
    "    # This is used to correct the colour intensity across\n",
    "    # the images so they can be compared with each other.\n",
    "    w_min = np.min(w)\n",
    "    w_max = np.max(w)\n",
    "\n",
    "    # Number of filters used in the conv. layer.\n",
    "    num_filters = w.shape[3]\n",
    "\n",
    "    # Number of grids to plot.\n",
    "    # Rounded-up, square-root of the number of filters.\n",
    "    num_grids = math.ceil(math.sqrt(num_filters))\n",
    "    \n",
    "    # Create figure with a grid of sub-plots.\n",
    "    fig, axes = plt.subplots(num_grids, num_grids)\n",
    "\n",
    "    # Plot all the filter-weights.\n",
    "    for i, ax in enumerate(axes.flat):\n",
    "        # Only plot the valid filter-weights.\n",
    "        if i<num_filters:\n",
    "            # Get the weights for the i'th filter of the input channel.\n",
    "            # See new_conv_layer() for details on the format\n",
    "            # of this 4-dim tensor.\n",
    "            img = w[:, :, input_channel, i]\n",
    "\n",
    "            # Plot image.\n",
    "            ax.imshow(img, vmin=w_min, vmax=w_max,\n",
    "                      interpolation='nearest', cmap='seismic')\n",
    "        \n",
    "        # Remove ticks from the plot.\n",
    "        ax.set_xticks([])\n",
    "        ax.set_yticks([])\n",
    "    \n",
    "    # Ensure the plot is shown correctly with multiple plots\n",
    "    # in a single Notebook cell.\n",
    "    plt.show()"
   ]
  },
  {
   "cell_type": "markdown",
   "metadata": {},
   "source": [
    "### Helper-function for plotting the output of a convolutional layer"
   ]
  },
  {
   "cell_type": "code",
   "execution_count": 1636,
   "metadata": {},
   "outputs": [],
   "source": [
    "def plot_conv_layer(layer, image):\n",
    "    # Assume layer is a TensorFlow op that outputs a 4-dim tensor\n",
    "    # which is the output of a convolutional layer,\n",
    "    # e.g. layer_conv1 or layer_conv2.\n",
    "\n",
    "    # Create a feed-dict containing just one image.\n",
    "    # Note that we don't need to feed y_true because it is\n",
    "    # not used in this calculation.\n",
    "    feed_dict = {x: [image]}\n",
    "\n",
    "    # Calculate and retrieve the output values of the layer\n",
    "    # when inputting that image.\n",
    "    values = session.run(layer, feed_dict=feed_dict)\n",
    "\n",
    "    # Number of filters used in the conv. layer.\n",
    "    num_filters = values.shape[3]\n",
    "\n",
    "    # Number of grids to plot.\n",
    "    # Rounded-up, square-root of the number of filters.\n",
    "    num_grids = math.ceil(math.sqrt(num_filters))\n",
    "    \n",
    "    # Create figure with a grid of sub-plots.\n",
    "    fig, axes = plt.subplots(num_grids, num_grids)\n",
    "\n",
    "    # Plot the output images of all the filters.\n",
    "    for i, ax in enumerate(axes.flat):\n",
    "        # Only plot the images for valid filters.\n",
    "        if i<num_filters:\n",
    "            # Get the output image of using the i'th filter.\n",
    "            # See new_conv_layer() for details on the format\n",
    "            # of this 4-dim tensor.\n",
    "            img = values[0, :, :, i]\n",
    "\n",
    "            # Plot image.\n",
    "            ax.imshow(img, interpolation='nearest', cmap='binary')\n",
    "        \n",
    "        # Remove ticks from the plot.\n",
    "        ax.set_xticks([])\n",
    "        ax.set_yticks([])\n",
    "    \n",
    "    # Ensure the plot is shown correctly with multiple plots\n",
    "    # in a single Notebook cell.\n",
    "    plt.show()"
   ]
  },
  {
   "cell_type": "markdown",
   "metadata": {},
   "source": [
    "### Input Images"
   ]
  },
  {
   "cell_type": "markdown",
   "metadata": {},
   "source": [
    "Helper-function for plotting an image."
   ]
  },
  {
   "cell_type": "code",
   "execution_count": 1637,
   "metadata": {},
   "outputs": [],
   "source": [
    "def plot_image(image):\n",
    "    plt.imshow(image.reshape(img_shape),\n",
    "               interpolation='nearest',\n",
    "               cmap='binary')\n",
    "\n",
    "    plt.show()"
   ]
  },
  {
   "cell_type": "markdown",
   "metadata": {},
   "source": [
    "Plot an image from the test-set which will be used as an example below."
   ]
  },
  {
   "cell_type": "code",
   "execution_count": 1646,
   "metadata": {},
   "outputs": [
    {
     "data": {
      "image/png": "[encoded data removed]",
      "text/plain": [
       "<Figure size 432x288 with 1 Axes>"
      ]
     },
     "metadata": {},
     "output_type": "display_data"
    }
   ],
   "source": [
    "image1 = data.test.images[200]\n",
    "plot_image(image1)"
   ]
  },
  {
   "cell_type": "markdown",
   "metadata": {},
   "source": [
    "Plot another example image from the test-set."
   ]
  },
  {
   "cell_type": "code",
   "execution_count": 1647,
   "metadata": {},
   "outputs": [
    {
     "data": {
      "image/png": "[encoded data removed]",
      "text/plain": [
       "<Figure size 432x288 with 1 Axes>"
      ]
     },
     "metadata": {},
     "output_type": "display_data"
    }
   ],
   "source": [
    "image2 = data.test.images[23]\n",
    "plot_image(image2)"
   ]
  },
  {
   "cell_type": "code",
   "execution_count": 1645,
   "metadata": {},
   "outputs": [
    {
     "data": {
      "text/plain": [
       "(784,)"
      ]
     },
     "execution_count": 1645,
     "metadata": {},
     "output_type": "execute_result"
    }
   ],
   "source": [
    "image2.shape"
   ]
  },
  {
   "cell_type": "markdown",
   "metadata": {},
   "source": [
    "### Convolution Layer 1"
   ]
  },
  {
   "cell_type": "markdown",
   "metadata": {},
   "source": [
    "Now plot the filter-weights for the first convolutional layer.\n",
    "\n",
    "Note that positive weights are red and negative weights are blue."
   ]
  },
  {
   "cell_type": "code",
   "execution_count": 1648,
   "metadata": {
    "scrolled": false
   },
   "outputs": [
    {
     "data": {
      "image/png": "[encoded data removed]",
      "text/plain": [
       "<Figure size 432x288 with 16 Axes>"
      ]
     },
     "metadata": {},
     "output_type": "display_data"
    }
   ],
   "source": [
    "plot_conv_weights(weights=weights_conv1)"
   ]
  },
  {
   "cell_type": "markdown",
   "metadata": {},
   "source": [
    "Applying each of these convolutional filters to the first input image gives the following output images, which are then used as input to the second convolutional layer. Note that these images are down-sampled to 14 x 14 pixels which is half the resolution of the original input image."
   ]
  },
  {
   "cell_type": "code",
   "execution_count": 1654,
   "metadata": {
    "scrolled": true
   },
   "outputs": [
    {
     "data": {
      "image/png": "[encoded data removed]",
      "text/plain": [
       "<Figure size 432x288 with 36 Axes>"
      ]
     },
     "metadata": {},
     "output_type": "display_data"
    }
   ],
   "source": [
    "plot_conv_layer(layer=layer_conv2_pool_relu, image=image1)"
   ]
  },
  {
   "cell_type": "markdown",
   "metadata": {},
   "source": [
    "The following images are the results of applying the convolutional filters to the second image."
   ]
  },
  {
   "cell_type": "code",
   "execution_count": 1650,
   "metadata": {
    "scrolled": false
   },
   "outputs": [
    {
     "data": {
      "image/png": "[encoded data removed]",
      "text/plain": [
       "<Figure size 432x288 with 16 Axes>"
      ]
     },
     "metadata": {},
     "output_type": "display_data"
    }
   ],
   "source": [
    "plot_conv_layer(layer=layer_conv1_pool_relu, image=image2)"
   ]
  },
  {
   "cell_type": "markdown",
   "metadata": {},
   "source": [
    "It is difficult to see from these images what the purpose of the convolutional filters might be. It appears that they have merely created several variations of the input image, as if light was shining from different angles and casting shadows in the image."
   ]
  },
  {
   "cell_type": "markdown",
   "metadata": {},
   "source": [
    "### Convolution Layer 2"
   ]
  },
  {
   "cell_type": "markdown",
   "metadata": {},
   "source": [
    "Now plot the filter-weights for the second convolutional layer.\n",
    "\n",
    "There are 16 output channels from the first conv-layer, which means there are 16 input channels to the second conv-layer. The second conv-layer has a set of filter-weights for each of its input channels. We start by plotting the filter-weigths for the first channel.\n",
    "\n",
    "Note again that positive weights are red and negative weights are blue."
   ]
  },
  {
   "cell_type": "code",
   "execution_count": 232,
   "metadata": {
    "scrolled": false
   },
   "outputs": [
    {
     "data": {
      "image/png": "[encoded data removed]",
      "text/plain": [
       "<Figure size 432x288 with 36 Axes>"
      ]
     },
     "metadata": {},
     "output_type": "display_data"
    }
   ],
   "source": [
    "plot_conv_weights(weights=weights_conv2, input_channel=0)"
   ]
  },
  {
   "cell_type": "markdown",
   "metadata": {},
   "source": [
    "There are 16 input channels to the second convolutional layer, so we can make another 15 plots of filter-weights like this. We just make one more with the filter-weights for the second channel. "
   ]
  },
  {
   "cell_type": "code",
   "execution_count": 233,
   "metadata": {},
   "outputs": [
    {
     "data": {
      "image/png": "[encoded data removed]",
      "text/plain": [
       "<Figure size 432x288 with 36 Axes>"
      ]
     },
     "metadata": {},
     "output_type": "display_data"
    }
   ],
   "source": [
    "plot_conv_weights(weights=weights_conv2, input_channel=1)"
   ]
  },
  {
   "cell_type": "markdown",
   "metadata": {},
   "source": [
    "It can be difficult to understand and keep track of how these filters are applied because of the high dimensionality.\n",
    "\n",
    "Applying these convolutional filters to the images that were ouput from the first conv-layer gives the following images.\n",
    "\n",
    "Note that these are down-sampled yet again to 7 x 7 pixels which is half the resolution of the images from the first conv-layer."
   ]
  },
  {
   "cell_type": "code",
   "execution_count": 2,
   "metadata": {
    "scrolled": true
   },
   "outputs": [],
   "source": [
    "#plot_conv_layer(layer=layer_conv1, image=image1)"
   ]
  },
  {
   "cell_type": "markdown",
   "metadata": {},
   "source": [
    "And these are the results of applying the filter-weights to the second image."
   ]
  },
  {
   "cell_type": "code",
   "execution_count": 235,
   "metadata": {
    "scrolled": false
   },
   "outputs": [
    {
     "data": {
      "image/png": "[encoded data removed]",
      "text/plain": [
       "<Figure size 432x288 with 36 Axes>"
      ]
     },
     "metadata": {},
     "output_type": "display_data"
    }
   ],
   "source": [
    "plot_conv_layer(layer=layer_conv2, image=image2)"
   ]
  },
  {
   "cell_type": "markdown",
   "metadata": {},
   "source": [
    "From these images, it looks like the second convolutional layer might detect lines and patterns in the input images, which are less sensitive to local variations in the original input images.\n",
    "\n",
    "These images are then flattened and input to the fully-connected layer, but that is not shown here."
   ]
  },
  {
   "cell_type": "markdown",
   "metadata": {},
   "source": [
    "### Close TensorFlow Session"
   ]
  },
  {
   "cell_type": "markdown",
   "metadata": {},
   "source": [
    "We are now done using TensorFlow, so we close the session to release its resources."
   ]
  },
  {
   "cell_type": "code",
   "execution_count": 65,
   "metadata": {},
   "outputs": [],
   "source": [
    "# This has been commented out in case you want to modify and experiment\n",
    "# with the Notebook without having to restart it.\n",
    "#session.close()"
   ]
  },
  {
   "cell_type": "markdown",
   "metadata": {},
   "source": [
    "## Conclusion\n",
    "\n",
    "We have seen that a Convolutional Neural Network works much better at recognizing hand-written digits than the simple linear model in Tutorial #01. The Convolutional Network gets a classification accuracy of about 99%, or even more if you make some adjustments, compared to only 91% for the simple linear model.\n",
    "\n",
    "However, the Convolutional Network is also much more complicated to implement, and it is not obvious from looking at the filter-weights why it works and why it sometimes fails.\n",
    "\n",
    "So we would like an easier way to program Convolutional Neural Networks and we would also like a better way of visualizing their inner workings."
   ]
  },
  {
   "cell_type": "markdown",
   "metadata": {},
   "source": [
    "## Exercises\n",
    "\n",
    "These are a few suggestions for exercises that may help improve your skills with TensorFlow. It is important to get hands-on experience with TensorFlow in order to learn how to use it properly.\n",
    "\n",
    "You may want to backup this Notebook before making any changes.\n",
    "\n",
    "* Do you get the exact same results if you run the Notebook multiple times without changing any parameters? What are the sources of randomness?\n",
    "* Run another 10,000 optimization iterations. Are the results better?\n",
    "* Change the learning-rate for the optimizer.\n",
    "* Change the configuration of the layers, such as the number of convolutional filters, the size of those filters, the number of neurons in the fully-connected layer, etc.\n",
    "* Add a so-called drop-out layer after the fully-connected layer. Note that the drop-out probability should be zero when calculating the classification accuracy, so you will need a placeholder variable for this probability.\n",
    "* Change the order of ReLU and max-pooling in the convolutional layer. Does it calculate the same thing? What is the fastest way of computing it? How many calculations are saved? Does it also work for Sigmoid-functions and average-pooling?\n",
    "* Add one or more convolutional and fully-connected layers. Does it help performance?\n",
    "* What is the smallest possible configuration that still gives good results?\n",
    "* Try using ReLU in the last fully-connected layer. Does the performance change? Why?\n",
    "* Try not using pooling in the convolutional layers. Does it change the classification accuracy and training time?\n",
    "* Try using a 2x2 stride in the convolution instead of max-pooling? What is the difference?\n",
    "* Remake the program yourself without looking too much at this source-code.\n",
    "* Explain to a friend how the program works."
   ]
  },
  {
   "cell_type": "markdown",
   "metadata": {},
   "source": [
    "## License (MIT)\n",
    "\n",
    "Copyright (c) 2016 by [Magnus Erik Hvass Pedersen](http://www.hvass-labs.org/)\n",
    "\n",
    "Permission is hereby granted, free of charge, to any person obtaining a copy of this software and associated documentation files (the \"Software\"), to deal in the Software without restriction, including without limitation the rights to use, copy, modify, merge, publish, distribute, sublicense, and/or sell copies of the Software, and to permit persons to whom the Software is furnished to do so, subject to the following conditions:\n",
    "\n",
    "The above copyright notice and this permission notice shall be included in all copies or substantial portions of the Software.\n",
    "\n",
    "THE SOFTWARE IS PROVIDED \"AS IS\", WITHOUT WARRANTY OF ANY KIND, EXPRESS OR IMPLIED, INCLUDING BUT NOT LIMITED TO THE WARRANTIES OF MERCHANTABILITY, FITNESS FOR A PARTICULAR PURPOSE AND NONINFRINGEMENT. IN NO EVENT SHALL THE AUTHORS OR COPYRIGHT HOLDERS BE LIABLE FOR ANY CLAIM, DAMAGES OR OTHER LIABILITY, WHETHER IN AN ACTION OF CONTRACT, TORT OR OTHERWISE, ARISING FROM, OUT OF OR IN CONNECTION WITH THE SOFTWARE OR THE USE OR OTHER DEALINGS IN THE SOFTWARE."
   ]
  }
 ],
 "metadata": {
  "anaconda-cloud": {},
  "kernelspec": {
   "display_name": "Python 3",
   "language": "python",
   "name": "python3"
  },
  "language_info": {
   "codemirror_mode": {
    "name": "ipython",
    "version": 3
   },
   "file_extension": ".py",
   "mimetype": "text/x-python",
   "name": "python",
   "nbconvert_exporter": "python",
   "pygments_lexer": "ipython3",
   "version": "3.6.4"
  }
 },
 "nbformat": 4,
 "nbformat_minor": 1
}
